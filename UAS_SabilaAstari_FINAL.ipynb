{
 "cells": [
  {
   "cell_type": "code",
   "execution_count": null,
   "metadata": {
    "colab": {
     "base_uri": "https://localhost:8080/",
     "height": 1000
    },
    "id": "ykcJn2O-AiIW",
    "outputId": "cb95ab93-bca8-44b8-c150-d2a7bc7aeb0b"
   },
   "outputs": [
    {
     "name": "stdout",
     "output_type": "stream",
     "text": [
      "Drive already mounted at /content/drive; to attempt to forcibly remount, call drive.mount(\"/content/drive\", force_remount=True).\n",
      "loading Roboflow workspace...\n",
      "loading Roboflow project...\n",
      "Ultralytics 8.3.158 🚀 Python-3.11.13 torch-2.6.0+cu124 CUDA:0 (NVIDIA A100-SXM4-40GB, 40507MiB)\n",
      "\u001b[34m\u001b[1mengine/trainer: \u001b[0magnostic_nms=False, amp=True, augment=True, auto_augment=randaugment, batch=16, bgr=0.0, box=7.5, cache=False, cfg=None, classes=None, close_mosaic=10, cls=0.5, conf=None, copy_paste=0.0, copy_paste_mode=flip, cos_lr=False, cutmix=0.0, data=/content/Indonesia-Food-1/data.yaml, degrees=5.0, deterministic=True, device=None, dfl=1.5, dnn=False, dropout=0.0, dynamic=False, embed=None, epochs=150, erasing=0.4, exist_ok=False, fliplr=0.5, flipud=0.0, format=torchscript, fraction=1.0, freeze=None, half=False, hsv_h=0.015, hsv_s=0.7, hsv_v=0.4, imgsz=640, int8=False, iou=0.7, keras=False, kobj=1.0, line_width=None, lr0=0.01, lrf=0.01, mask_ratio=4, max_det=300, mixup=0.1, mode=train, model=yolov8x.pt, momentum=0.937, mosaic=1.0, multi_scale=False, name=train5, nbs=64, nms=False, opset=None, optimize=False, optimizer=auto, overlap_mask=True, patience=100, perspective=0.0, plots=True, pose=12.0, pretrained=True, profile=False, project=None, rect=False, resume=False, retina_masks=False, save=True, save_conf=False, save_crop=False, save_dir=runs/detect/train5, save_frames=False, save_json=False, save_period=-1, save_txt=False, scale=0.5, seed=0, shear=0.0, show=False, show_boxes=True, show_conf=True, show_labels=True, simplify=True, single_cls=False, source=None, split=val, stream_buffer=False, task=detect, time=None, tracker=botsort.yaml, translate=0.1, val=True, verbose=True, vid_stride=1, visualize=False, warmup_bias_lr=0.1, warmup_epochs=3.0, warmup_momentum=0.8, weight_decay=0.0005, workers=8, workspace=None\n",
      "Overriding model.yaml nc=80 with nc=21\n",
      "\n",
      "                   from  n    params  module                                       arguments                     \n",
      "  0                  -1  1      2320  ultralytics.nn.modules.conv.Conv             [3, 80, 3, 2]                 \n",
      "  1                  -1  1    115520  ultralytics.nn.modules.conv.Conv             [80, 160, 3, 2]               \n",
      "  2                  -1  3    436800  ultralytics.nn.modules.block.C2f             [160, 160, 3, True]           \n",
      "  3                  -1  1    461440  ultralytics.nn.modules.conv.Conv             [160, 320, 3, 2]              \n",
      "  4                  -1  6   3281920  ultralytics.nn.modules.block.C2f             [320, 320, 6, True]           \n",
      "  5                  -1  1   1844480  ultralytics.nn.modules.conv.Conv             [320, 640, 3, 2]              \n",
      "  6                  -1  6  13117440  ultralytics.nn.modules.block.C2f             [640, 640, 6, True]           \n",
      "  7                  -1  1   3687680  ultralytics.nn.modules.conv.Conv             [640, 640, 3, 2]              \n",
      "  8                  -1  3   6969600  ultralytics.nn.modules.block.C2f             [640, 640, 3, True]           \n",
      "  9                  -1  1   1025920  ultralytics.nn.modules.block.SPPF            [640, 640, 5]                 \n",
      " 10                  -1  1         0  torch.nn.modules.upsampling.Upsample         [None, 2, 'nearest']          \n",
      " 11             [-1, 6]  1         0  ultralytics.nn.modules.conv.Concat           [1]                           \n",
      " 12                  -1  3   7379200  ultralytics.nn.modules.block.C2f             [1280, 640, 3]                \n",
      " 13                  -1  1         0  torch.nn.modules.upsampling.Upsample         [None, 2, 'nearest']          \n",
      " 14             [-1, 4]  1         0  ultralytics.nn.modules.conv.Concat           [1]                           \n",
      " 15                  -1  3   1948800  ultralytics.nn.modules.block.C2f             [960, 320, 3]                 \n",
      " 16                  -1  1    922240  ultralytics.nn.modules.conv.Conv             [320, 320, 3, 2]              \n",
      " 17            [-1, 12]  1         0  ultralytics.nn.modules.conv.Concat           [1]                           \n",
      " 18                  -1  3   7174400  ultralytics.nn.modules.block.C2f             [960, 640, 3]                 \n",
      " 19                  -1  1   3687680  ultralytics.nn.modules.conv.Conv             [640, 640, 3, 2]              \n",
      " 20             [-1, 9]  1         0  ultralytics.nn.modules.conv.Concat           [1]                           \n",
      " 21                  -1  3   7379200  ultralytics.nn.modules.block.C2f             [1280, 640, 3]                \n",
      " 22        [15, 18, 21]  1   8738191  ultralytics.nn.modules.head.Detect           [21, [320, 640, 640]]         \n",
      "Model summary: 209 layers, 68,172,831 parameters, 68,172,815 gradients, 258.2 GFLOPs\n",
      "\n",
      "Transferred 589/595 items from pretrained weights\n",
      "Freezing layer 'model.22.dfl.conv.weight'\n",
      "\u001b[34m\u001b[1mAMP: \u001b[0mrunning Automatic Mixed Precision (AMP) checks...\n",
      "\u001b[34m\u001b[1mAMP: \u001b[0mchecks passed ✅\n",
      "\u001b[34m\u001b[1mtrain: \u001b[0mFast image access ✅ (ping: 0.0±0.0 ms, read: 1626.9±613.6 MB/s, size: 61.5 KB)\n"
     ]
    },
    {
     "name": "stderr",
     "output_type": "stream",
     "text": [
      "\u001b[34m\u001b[1mtrain: \u001b[0mScanning /content/Indonesia-Food-1/train/labels.cache... 310 images, 2 backgrounds, 0 corrupt: 100%|██████████| 310/310 [00:00<?, ?it/s]"
     ]
    },
    {
     "name": "stdout",
     "output_type": "stream",
     "text": [
      "WARNING ⚠️ Box and segment counts should be equal, but got len(segments) = 3, len(boxes) = 376. To resolve this only boxes will be used and all segments will be removed. To avoid this please supply either a detect or segment dataset, not a detect-segment mixed dataset.\n",
      "\u001b[34m\u001b[1malbumentations: \u001b[0mBlur(p=0.01, blur_limit=(3, 7)), MedianBlur(p=0.01, blur_limit=(3, 7)), ToGray(p=0.01, method='weighted_average', num_output_channels=3), CLAHE(p=0.01, clip_limit=(1.0, 4.0), tile_grid_size=(8, 8))\n"
     ]
    },
    {
     "name": "stderr",
     "output_type": "stream",
     "text": [
      "\n"
     ]
    },
    {
     "name": "stdout",
     "output_type": "stream",
     "text": [
      "\u001b[34m\u001b[1mval: \u001b[0mFast image access ✅ (ping: 0.0±0.0 ms, read: 353.9±128.6 MB/s, size: 45.1 KB)\n"
     ]
    },
    {
     "name": "stderr",
     "output_type": "stream",
     "text": [
      "\u001b[34m\u001b[1mval: \u001b[0mScanning /content/Indonesia-Food-1/valid/labels.cache... 77 images, 0 backgrounds, 0 corrupt: 100%|██████████| 77/77 [00:00<?, ?it/s]"
     ]
    },
    {
     "name": "stdout",
     "output_type": "stream",
     "text": [
      "WARNING ⚠️ Box and segment counts should be equal, but got len(segments) = 4, len(boxes) = 91. To resolve this only boxes will be used and all segments will be removed. To avoid this please supply either a detect or segment dataset, not a detect-segment mixed dataset.\n"
     ]
    },
    {
     "name": "stderr",
     "output_type": "stream",
     "text": [
      "\n"
     ]
    },
    {
     "name": "stdout",
     "output_type": "stream",
     "text": [
      "Plotting labels to runs/detect/train5/labels.jpg... \n",
      "\u001b[34m\u001b[1moptimizer:\u001b[0m 'optimizer=auto' found, ignoring 'lr0=0.01' and 'momentum=0.937' and determining best 'optimizer', 'lr0' and 'momentum' automatically... \n",
      "\u001b[34m\u001b[1moptimizer:\u001b[0m AdamW(lr=0.0004, momentum=0.9) with parameter groups 97 weight(decay=0.0), 104 weight(decay=0.0005), 103 bias(decay=0.0)\n",
      "Image sizes 640 train, 640 val\n",
      "Using 8 dataloader workers\n",
      "Logging results to \u001b[1mruns/detect/train5\u001b[0m\n",
      "Starting training for 150 epochs...\n",
      "\n",
      "      Epoch    GPU_mem   box_loss   cls_loss   dfl_loss  Instances       Size\n"
     ]
    },
    {
     "name": "stderr",
     "output_type": "stream",
     "text": [
      "      1/150      21.4G      1.449      4.169      2.028         16        640: 100%|██████████| 20/20 [00:04<00:00,  4.18it/s]\n",
      "                 Class     Images  Instances      Box(P          R      mAP50  mAP50-95): 100%|██████████| 3/3 [00:01<00:00,  2.68it/s]\n"
     ]
    },
    {
     "name": "stdout",
     "output_type": "stream",
     "text": [
      "                   all         77         91      0.257      0.435      0.236      0.157\n",
      "\n",
      "      Epoch    GPU_mem   box_loss   cls_loss   dfl_loss  Instances       Size\n"
     ]
    },
    {
     "name": "stderr",
     "output_type": "stream",
     "text": [
      "      2/150      22.2G      1.328      2.925      1.826         25        640: 100%|██████████| 20/20 [00:04<00:00,  4.54it/s]\n",
      "                 Class     Images  Instances      Box(P          R      mAP50  mAP50-95): 100%|██████████| 3/3 [00:00<00:00,  4.56it/s]"
     ]
    },
    {
     "name": "stdout",
     "output_type": "stream",
     "text": [
      "                   all         77         91       0.27      0.435      0.346      0.193\n"
     ]
    },
    {
     "name": "stderr",
     "output_type": "stream",
     "text": [
      "\n"
     ]
    },
    {
     "name": "stdout",
     "output_type": "stream",
     "text": [
      "\n",
      "      Epoch    GPU_mem   box_loss   cls_loss   dfl_loss  Instances       Size\n"
     ]
    },
    {
     "name": "stderr",
     "output_type": "stream",
     "text": [
      "      3/150      22.2G      1.323      2.672      1.804         16        640: 100%|██████████| 20/20 [00:04<00:00,  4.62it/s]\n",
      "                 Class     Images  Instances      Box(P          R      mAP50  mAP50-95): 100%|██████████| 3/3 [00:00<00:00,  4.77it/s]"
     ]
    },
    {
     "name": "stdout",
     "output_type": "stream",
     "text": [
      "                   all         77         91      0.438      0.414      0.286      0.148\n"
     ]
    },
    {
     "name": "stderr",
     "output_type": "stream",
     "text": [
      "\n"
     ]
    },
    {
     "name": "stdout",
     "output_type": "stream",
     "text": [
      "\n",
      "      Epoch    GPU_mem   box_loss   cls_loss   dfl_loss  Instances       Size\n"
     ]
    },
    {
     "name": "stderr",
     "output_type": "stream",
     "text": [
      "      4/150      22.1G      1.341       2.45      1.806         20        640: 100%|██████████| 20/20 [00:04<00:00,  4.76it/s]\n",
      "                 Class     Images  Instances      Box(P          R      mAP50  mAP50-95): 100%|██████████| 3/3 [00:00<00:00,  5.10it/s]"
     ]
    },
    {
     "name": "stdout",
     "output_type": "stream",
     "text": [
      "                   all         77         91      0.522      0.359      0.353      0.189\n"
     ]
    },
    {
     "name": "stderr",
     "output_type": "stream",
     "text": [
      "\n"
     ]
    },
    {
     "name": "stdout",
     "output_type": "stream",
     "text": [
      "\n",
      "      Epoch    GPU_mem   box_loss   cls_loss   dfl_loss  Instances       Size\n"
     ]
    },
    {
     "name": "stderr",
     "output_type": "stream",
     "text": [
      "      5/150      22.2G      1.422       2.41      1.862         21        640: 100%|██████████| 20/20 [00:04<00:00,  4.76it/s]\n",
      "                 Class     Images  Instances      Box(P          R      mAP50  mAP50-95): 100%|██████████| 3/3 [00:00<00:00,  4.95it/s]"
     ]
    },
    {
     "name": "stdout",
     "output_type": "stream",
     "text": [
      "                   all         77         91      0.226      0.324      0.227      0.118\n"
     ]
    },
    {
     "name": "stderr",
     "output_type": "stream",
     "text": [
      "\n"
     ]
    },
    {
     "name": "stdout",
     "output_type": "stream",
     "text": [
      "\n",
      "      Epoch    GPU_mem   box_loss   cls_loss   dfl_loss  Instances       Size\n"
     ]
    },
    {
     "name": "stderr",
     "output_type": "stream",
     "text": [
      "      6/150      22.1G      1.422      2.475      1.842         28        640: 100%|██████████| 20/20 [00:04<00:00,  4.79it/s]\n",
      "                 Class     Images  Instances      Box(P          R      mAP50  mAP50-95): 100%|██████████| 3/3 [00:00<00:00,  5.01it/s]"
     ]
    },
    {
     "name": "stdout",
     "output_type": "stream",
     "text": [
      "                   all         77         91      0.199      0.347       0.25      0.124\n"
     ]
    },
    {
     "name": "stderr",
     "output_type": "stream",
     "text": [
      "\n"
     ]
    },
    {
     "name": "stdout",
     "output_type": "stream",
     "text": [
      "\n",
      "      Epoch    GPU_mem   box_loss   cls_loss   dfl_loss  Instances       Size\n"
     ]
    },
    {
     "name": "stderr",
     "output_type": "stream",
     "text": [
      "      7/150      22.1G      1.448      2.433      1.887         17        640: 100%|██████████| 20/20 [00:04<00:00,  4.77it/s]\n",
      "                 Class     Images  Instances      Box(P          R      mAP50  mAP50-95): 100%|██████████| 3/3 [00:00<00:00,  4.99it/s]"
     ]
    },
    {
     "name": "stdout",
     "output_type": "stream",
     "text": [
      "                   all         77         91      0.282      0.433      0.274       0.16\n"
     ]
    },
    {
     "name": "stderr",
     "output_type": "stream",
     "text": [
      "\n"
     ]
    },
    {
     "name": "stdout",
     "output_type": "stream",
     "text": [
      "\n",
      "      Epoch    GPU_mem   box_loss   cls_loss   dfl_loss  Instances       Size\n"
     ]
    },
    {
     "name": "stderr",
     "output_type": "stream",
     "text": [
      "      8/150      22.1G      1.424      2.331      1.874         25        640: 100%|██████████| 20/20 [00:04<00:00,  4.82it/s]\n",
      "                 Class     Images  Instances      Box(P          R      mAP50  mAP50-95): 100%|██████████| 3/3 [00:00<00:00,  4.92it/s]"
     ]
    },
    {
     "name": "stdout",
     "output_type": "stream",
     "text": [
      "                   all         77         91     0.0844      0.368      0.179     0.0897\n"
     ]
    },
    {
     "name": "stderr",
     "output_type": "stream",
     "text": [
      "\n"
     ]
    },
    {
     "name": "stdout",
     "output_type": "stream",
     "text": [
      "\n",
      "      Epoch    GPU_mem   box_loss   cls_loss   dfl_loss  Instances       Size\n"
     ]
    },
    {
     "name": "stderr",
     "output_type": "stream",
     "text": [
      "      9/150      22.1G      1.429      2.337      1.852         32        640: 100%|██████████| 20/20 [00:04<00:00,  4.82it/s]\n",
      "                 Class     Images  Instances      Box(P          R      mAP50  mAP50-95): 100%|██████████| 3/3 [00:00<00:00,  5.20it/s]"
     ]
    },
    {
     "name": "stdout",
     "output_type": "stream",
     "text": [
      "                   all         77         91      0.592      0.232      0.257      0.123\n"
     ]
    },
    {
     "name": "stderr",
     "output_type": "stream",
     "text": [
      "\n"
     ]
    },
    {
     "name": "stdout",
     "output_type": "stream",
     "text": [
      "\n",
      "      Epoch    GPU_mem   box_loss   cls_loss   dfl_loss  Instances       Size\n"
     ]
    },
    {
     "name": "stderr",
     "output_type": "stream",
     "text": [
      "     10/150      22.1G      1.398      2.266      1.804         13        640: 100%|██████████| 20/20 [00:04<00:00,  4.79it/s]\n",
      "                 Class     Images  Instances      Box(P          R      mAP50  mAP50-95): 100%|██████████| 3/3 [00:00<00:00,  5.13it/s]"
     ]
    },
    {
     "name": "stdout",
     "output_type": "stream",
     "text": [
      "                   all         77         91      0.286      0.459      0.256      0.141\n"
     ]
    },
    {
     "name": "stderr",
     "output_type": "stream",
     "text": [
      "\n"
     ]
    },
    {
     "name": "stdout",
     "output_type": "stream",
     "text": [
      "\n",
      "      Epoch    GPU_mem   box_loss   cls_loss   dfl_loss  Instances       Size\n"
     ]
    },
    {
     "name": "stderr",
     "output_type": "stream",
     "text": [
      "     11/150      22.1G      1.349      2.228      1.796         22        640: 100%|██████████| 20/20 [00:04<00:00,  4.80it/s]\n",
      "                 Class     Images  Instances      Box(P          R      mAP50  mAP50-95): 100%|██████████| 3/3 [00:00<00:00,  4.99it/s]"
     ]
    },
    {
     "name": "stdout",
     "output_type": "stream",
     "text": [
      "                   all         77         91       0.41      0.294      0.284      0.161\n"
     ]
    },
    {
     "name": "stderr",
     "output_type": "stream",
     "text": [
      "\n"
     ]
    },
    {
     "name": "stdout",
     "output_type": "stream",
     "text": [
      "\n",
      "      Epoch    GPU_mem   box_loss   cls_loss   dfl_loss  Instances       Size\n"
     ]
    },
    {
     "name": "stderr",
     "output_type": "stream",
     "text": [
      "     12/150      22.1G      1.337      2.057      1.799         19        640: 100%|██████████| 20/20 [00:04<00:00,  4.81it/s]\n",
      "                 Class     Images  Instances      Box(P          R      mAP50  mAP50-95): 100%|██████████| 3/3 [00:00<00:00,  5.18it/s]"
     ]
    },
    {
     "name": "stdout",
     "output_type": "stream",
     "text": [
      "                   all         77         91      0.229       0.32      0.237      0.151\n"
     ]
    },
    {
     "name": "stderr",
     "output_type": "stream",
     "text": [
      "\n"
     ]
    },
    {
     "name": "stdout",
     "output_type": "stream",
     "text": [
      "\n",
      "      Epoch    GPU_mem   box_loss   cls_loss   dfl_loss  Instances       Size\n"
     ]
    },
    {
     "name": "stderr",
     "output_type": "stream",
     "text": [
      "     13/150      22.1G      1.407      2.127      1.832         15        640: 100%|██████████| 20/20 [00:04<00:00,  4.78it/s]\n",
      "                 Class     Images  Instances      Box(P          R      mAP50  mAP50-95): 100%|██████████| 3/3 [00:00<00:00,  5.06it/s]"
     ]
    },
    {
     "name": "stdout",
     "output_type": "stream",
     "text": [
      "                   all         77         91      0.423      0.379      0.378      0.204\n"
     ]
    },
    {
     "name": "stderr",
     "output_type": "stream",
     "text": [
      "\n"
     ]
    },
    {
     "name": "stdout",
     "output_type": "stream",
     "text": [
      "\n",
      "      Epoch    GPU_mem   box_loss   cls_loss   dfl_loss  Instances       Size\n"
     ]
    },
    {
     "name": "stderr",
     "output_type": "stream",
     "text": [
      "     14/150      22.1G      1.354      2.097      1.804         16        640: 100%|██████████| 20/20 [00:04<00:00,  4.77it/s]\n",
      "                 Class     Images  Instances      Box(P          R      mAP50  mAP50-95): 100%|██████████| 3/3 [00:00<00:00,  5.13it/s]"
     ]
    },
    {
     "name": "stdout",
     "output_type": "stream",
     "text": [
      "                   all         77         91       0.74      0.377      0.386      0.207\n"
     ]
    },
    {
     "name": "stderr",
     "output_type": "stream",
     "text": [
      "\n"
     ]
    },
    {
     "name": "stdout",
     "output_type": "stream",
     "text": [
      "\n",
      "      Epoch    GPU_mem   box_loss   cls_loss   dfl_loss  Instances       Size\n"
     ]
    },
    {
     "name": "stderr",
     "output_type": "stream",
     "text": [
      "     15/150      22.1G      1.337      2.105      1.766         25        640: 100%|██████████| 20/20 [00:04<00:00,  4.77it/s]\n",
      "                 Class     Images  Instances      Box(P          R      mAP50  mAP50-95): 100%|██████████| 3/3 [00:00<00:00,  5.24it/s]"
     ]
    },
    {
     "name": "stdout",
     "output_type": "stream",
     "text": [
      "                   all         77         91      0.575      0.417      0.397      0.233\n"
     ]
    },
    {
     "name": "stderr",
     "output_type": "stream",
     "text": [
      "\n"
     ]
    },
    {
     "name": "stdout",
     "output_type": "stream",
     "text": [
      "\n",
      "      Epoch    GPU_mem   box_loss   cls_loss   dfl_loss  Instances       Size\n"
     ]
    },
    {
     "name": "stderr",
     "output_type": "stream",
     "text": [
      "     16/150      22.1G      1.336      2.052      1.764         20        640: 100%|██████████| 20/20 [00:04<00:00,  4.79it/s]\n",
      "                 Class     Images  Instances      Box(P          R      mAP50  mAP50-95): 100%|██████████| 3/3 [00:00<00:00,  5.27it/s]"
     ]
    },
    {
     "name": "stdout",
     "output_type": "stream",
     "text": [
      "                   all         77         91      0.606      0.476      0.512      0.312\n"
     ]
    },
    {
     "name": "stderr",
     "output_type": "stream",
     "text": [
      "\n"
     ]
    },
    {
     "name": "stdout",
     "output_type": "stream",
     "text": [
      "\n",
      "      Epoch    GPU_mem   box_loss   cls_loss   dfl_loss  Instances       Size\n"
     ]
    },
    {
     "name": "stderr",
     "output_type": "stream",
     "text": [
      "     17/150      22.1G      1.274       1.97      1.741         17        640: 100%|██████████| 20/20 [00:04<00:00,  4.78it/s]\n",
      "                 Class     Images  Instances      Box(P          R      mAP50  mAP50-95): 100%|██████████| 3/3 [00:00<00:00,  5.08it/s]"
     ]
    },
    {
     "name": "stdout",
     "output_type": "stream",
     "text": [
      "                   all         77         91      0.599      0.513      0.511      0.287\n"
     ]
    },
    {
     "name": "stderr",
     "output_type": "stream",
     "text": [
      "\n"
     ]
    },
    {
     "name": "stdout",
     "output_type": "stream",
     "text": [
      "\n",
      "      Epoch    GPU_mem   box_loss   cls_loss   dfl_loss  Instances       Size\n"
     ]
    },
    {
     "name": "stderr",
     "output_type": "stream",
     "text": [
      "     18/150      22.1G      1.347      2.103      1.816         22        640: 100%|██████████| 20/20 [00:04<00:00,  4.82it/s]\n",
      "                 Class     Images  Instances      Box(P          R      mAP50  mAP50-95): 100%|██████████| 3/3 [00:00<00:00,  5.24it/s]"
     ]
    },
    {
     "name": "stdout",
     "output_type": "stream",
     "text": [
      "                   all         77         91      0.447      0.411      0.422      0.238\n"
     ]
    },
    {
     "name": "stderr",
     "output_type": "stream",
     "text": [
      "\n"
     ]
    },
    {
     "name": "stdout",
     "output_type": "stream",
     "text": [
      "\n",
      "      Epoch    GPU_mem   box_loss   cls_loss   dfl_loss  Instances       Size\n"
     ]
    },
    {
     "name": "stderr",
     "output_type": "stream",
     "text": [
      "     19/150      22.1G      1.325      1.954      1.734         20        640: 100%|██████████| 20/20 [00:04<00:00,  4.79it/s]\n",
      "                 Class     Images  Instances      Box(P          R      mAP50  mAP50-95): 100%|██████████| 3/3 [00:00<00:00,  5.20it/s]"
     ]
    },
    {
     "name": "stdout",
     "output_type": "stream",
     "text": [
      "                   all         77         91       0.71      0.456       0.57       0.34\n"
     ]
    },
    {
     "name": "stderr",
     "output_type": "stream",
     "text": [
      "\n"
     ]
    },
    {
     "name": "stdout",
     "output_type": "stream",
     "text": [
      "\n",
      "      Epoch    GPU_mem   box_loss   cls_loss   dfl_loss  Instances       Size\n"
     ]
    },
    {
     "name": "stderr",
     "output_type": "stream",
     "text": [
      "     20/150      22.1G      1.282      1.911      1.739         31        640: 100%|██████████| 20/20 [00:04<00:00,  4.75it/s]\n",
      "                 Class     Images  Instances      Box(P          R      mAP50  mAP50-95): 100%|██████████| 3/3 [00:00<00:00,  5.14it/s]"
     ]
    },
    {
     "name": "stdout",
     "output_type": "stream",
     "text": [
      "                   all         77         91      0.487      0.494      0.521      0.289\n"
     ]
    },
    {
     "name": "stderr",
     "output_type": "stream",
     "text": [
      "\n"
     ]
    },
    {
     "name": "stdout",
     "output_type": "stream",
     "text": [
      "\n",
      "      Epoch    GPU_mem   box_loss   cls_loss   dfl_loss  Instances       Size\n"
     ]
    },
    {
     "name": "stderr",
     "output_type": "stream",
     "text": [
      "     21/150      22.1G      1.318      1.947      1.758         16        640: 100%|██████████| 20/20 [00:04<00:00,  4.80it/s]\n",
      "                 Class     Images  Instances      Box(P          R      mAP50  mAP50-95): 100%|██████████| 3/3 [00:00<00:00,  5.19it/s]"
     ]
    },
    {
     "name": "stdout",
     "output_type": "stream",
     "text": [
      "                   all         77         91      0.661      0.452      0.495      0.317\n"
     ]
    },
    {
     "name": "stderr",
     "output_type": "stream",
     "text": [
      "\n"
     ]
    },
    {
     "name": "stdout",
     "output_type": "stream",
     "text": [
      "\n",
      "      Epoch    GPU_mem   box_loss   cls_loss   dfl_loss  Instances       Size\n"
     ]
    },
    {
     "name": "stderr",
     "output_type": "stream",
     "text": [
      "     22/150      22.1G      1.287      1.822      1.716         21        640: 100%|██████████| 20/20 [00:04<00:00,  4.82it/s]\n",
      "                 Class     Images  Instances      Box(P          R      mAP50  mAP50-95): 100%|██████████| 3/3 [00:00<00:00,  5.22it/s]"
     ]
    },
    {
     "name": "stdout",
     "output_type": "stream",
     "text": [
      "                   all         77         91      0.406      0.571       0.49       0.28\n"
     ]
    },
    {
     "name": "stderr",
     "output_type": "stream",
     "text": [
      "\n"
     ]
    },
    {
     "name": "stdout",
     "output_type": "stream",
     "text": [
      "\n",
      "      Epoch    GPU_mem   box_loss   cls_loss   dfl_loss  Instances       Size\n"
     ]
    },
    {
     "name": "stderr",
     "output_type": "stream",
     "text": [
      "     23/150      22.1G      1.239      1.771      1.696         11        640: 100%|██████████| 20/20 [00:04<00:00,  4.82it/s]\n",
      "                 Class     Images  Instances      Box(P          R      mAP50  mAP50-95): 100%|██████████| 3/3 [00:00<00:00,  5.24it/s]"
     ]
    },
    {
     "name": "stdout",
     "output_type": "stream",
     "text": [
      "                   all         77         91      0.551      0.607      0.574      0.352\n"
     ]
    },
    {
     "name": "stderr",
     "output_type": "stream",
     "text": [
      "\n"
     ]
    },
    {
     "name": "stdout",
     "output_type": "stream",
     "text": [
      "\n",
      "      Epoch    GPU_mem   box_loss   cls_loss   dfl_loss  Instances       Size\n"
     ]
    },
    {
     "name": "stderr",
     "output_type": "stream",
     "text": [
      "     24/150      22.1G      1.263      1.748      1.728         18        640: 100%|██████████| 20/20 [00:04<00:00,  4.79it/s]\n",
      "                 Class     Images  Instances      Box(P          R      mAP50  mAP50-95): 100%|██████████| 3/3 [00:00<00:00,  5.16it/s]"
     ]
    },
    {
     "name": "stdout",
     "output_type": "stream",
     "text": [
      "                   all         77         91      0.303       0.58       0.37      0.234\n"
     ]
    },
    {
     "name": "stderr",
     "output_type": "stream",
     "text": [
      "\n"
     ]
    },
    {
     "name": "stdout",
     "output_type": "stream",
     "text": [
      "\n",
      "      Epoch    GPU_mem   box_loss   cls_loss   dfl_loss  Instances       Size\n"
     ]
    },
    {
     "name": "stderr",
     "output_type": "stream",
     "text": [
      "     25/150      22.1G      1.164      1.625      1.622         19        640: 100%|██████████| 20/20 [00:04<00:00,  4.82it/s]\n",
      "                 Class     Images  Instances      Box(P          R      mAP50  mAP50-95): 100%|██████████| 3/3 [00:00<00:00,  5.30it/s]"
     ]
    },
    {
     "name": "stdout",
     "output_type": "stream",
     "text": [
      "                   all         77         91      0.632      0.513      0.591      0.375\n"
     ]
    },
    {
     "name": "stderr",
     "output_type": "stream",
     "text": [
      "\n"
     ]
    },
    {
     "name": "stdout",
     "output_type": "stream",
     "text": [
      "\n",
      "      Epoch    GPU_mem   box_loss   cls_loss   dfl_loss  Instances       Size\n"
     ]
    },
    {
     "name": "stderr",
     "output_type": "stream",
     "text": [
      "     26/150      22.1G      1.229      1.751      1.723         20        640: 100%|██████████| 20/20 [00:04<00:00,  4.76it/s]\n",
      "                 Class     Images  Instances      Box(P          R      mAP50  mAP50-95): 100%|██████████| 3/3 [00:00<00:00,  5.21it/s]"
     ]
    },
    {
     "name": "stdout",
     "output_type": "stream",
     "text": [
      "                   all         77         91      0.446      0.619        0.6       0.37\n"
     ]
    },
    {
     "name": "stderr",
     "output_type": "stream",
     "text": [
      "\n"
     ]
    },
    {
     "name": "stdout",
     "output_type": "stream",
     "text": [
      "\n",
      "      Epoch    GPU_mem   box_loss   cls_loss   dfl_loss  Instances       Size\n"
     ]
    },
    {
     "name": "stderr",
     "output_type": "stream",
     "text": [
      "     27/150      22.1G      1.246      1.715      1.677         26        640: 100%|██████████| 20/20 [00:04<00:00,  4.82it/s]\n",
      "                 Class     Images  Instances      Box(P          R      mAP50  mAP50-95): 100%|██████████| 3/3 [00:00<00:00,  5.27it/s]"
     ]
    },
    {
     "name": "stdout",
     "output_type": "stream",
     "text": [
      "                   all         77         91      0.478       0.58      0.603      0.385\n"
     ]
    },
    {
     "name": "stderr",
     "output_type": "stream",
     "text": [
      "\n"
     ]
    },
    {
     "name": "stdout",
     "output_type": "stream",
     "text": [
      "\n",
      "      Epoch    GPU_mem   box_loss   cls_loss   dfl_loss  Instances       Size\n"
     ]
    },
    {
     "name": "stderr",
     "output_type": "stream",
     "text": [
      "     28/150      22.1G      1.171      1.637      1.651         19        640: 100%|██████████| 20/20 [00:04<00:00,  4.78it/s]\n",
      "                 Class     Images  Instances      Box(P          R      mAP50  mAP50-95): 100%|██████████| 3/3 [00:00<00:00,  5.09it/s]"
     ]
    },
    {
     "name": "stdout",
     "output_type": "stream",
     "text": [
      "                   all         77         91      0.575      0.469      0.554      0.361\n"
     ]
    },
    {
     "name": "stderr",
     "output_type": "stream",
     "text": [
      "\n"
     ]
    },
    {
     "name": "stdout",
     "output_type": "stream",
     "text": [
      "\n",
      "      Epoch    GPU_mem   box_loss   cls_loss   dfl_loss  Instances       Size\n"
     ]
    },
    {
     "name": "stderr",
     "output_type": "stream",
     "text": [
      "     29/150      22.1G      1.242      1.657      1.716         21        640: 100%|██████████| 20/20 [00:04<00:00,  4.80it/s]\n",
      "                 Class     Images  Instances      Box(P          R      mAP50  mAP50-95): 100%|██████████| 3/3 [00:00<00:00,  5.10it/s]"
     ]
    },
    {
     "name": "stdout",
     "output_type": "stream",
     "text": [
      "                   all         77         91      0.563      0.657      0.696      0.469\n"
     ]
    },
    {
     "name": "stderr",
     "output_type": "stream",
     "text": [
      "\n"
     ]
    },
    {
     "name": "stdout",
     "output_type": "stream",
     "text": [
      "\n",
      "      Epoch    GPU_mem   box_loss   cls_loss   dfl_loss  Instances       Size\n"
     ]
    },
    {
     "name": "stderr",
     "output_type": "stream",
     "text": [
      "     30/150      22.1G      1.202      1.633      1.666         22        640: 100%|██████████| 20/20 [00:04<00:00,  4.75it/s]\n",
      "                 Class     Images  Instances      Box(P          R      mAP50  mAP50-95): 100%|██████████| 3/3 [00:00<00:00,  4.99it/s]"
     ]
    },
    {
     "name": "stdout",
     "output_type": "stream",
     "text": [
      "                   all         77         91      0.463      0.716      0.624      0.395\n"
     ]
    },
    {
     "name": "stderr",
     "output_type": "stream",
     "text": [
      "\n"
     ]
    },
    {
     "name": "stdout",
     "output_type": "stream",
     "text": [
      "\n",
      "      Epoch    GPU_mem   box_loss   cls_loss   dfl_loss  Instances       Size\n"
     ]
    },
    {
     "name": "stderr",
     "output_type": "stream",
     "text": [
      "     31/150      22.2G      1.261      1.667      1.701         28        640: 100%|██████████| 20/20 [00:04<00:00,  4.81it/s]\n",
      "                 Class     Images  Instances      Box(P          R      mAP50  mAP50-95): 100%|██████████| 3/3 [00:00<00:00,  5.32it/s]"
     ]
    },
    {
     "name": "stdout",
     "output_type": "stream",
     "text": [
      "                   all         77         91      0.655      0.597      0.661      0.419\n"
     ]
    },
    {
     "name": "stderr",
     "output_type": "stream",
     "text": [
      "\n"
     ]
    },
    {
     "name": "stdout",
     "output_type": "stream",
     "text": [
      "\n",
      "      Epoch    GPU_mem   box_loss   cls_loss   dfl_loss  Instances       Size\n"
     ]
    },
    {
     "name": "stderr",
     "output_type": "stream",
     "text": [
      "     32/150      22.2G      1.173      1.549      1.636         15        640: 100%|██████████| 20/20 [00:04<00:00,  4.81it/s]\n",
      "                 Class     Images  Instances      Box(P          R      mAP50  mAP50-95): 100%|██████████| 3/3 [00:00<00:00,  5.29it/s]"
     ]
    },
    {
     "name": "stdout",
     "output_type": "stream",
     "text": [
      "                   all         77         91      0.714      0.653      0.744      0.466\n"
     ]
    },
    {
     "name": "stderr",
     "output_type": "stream",
     "text": [
      "\n"
     ]
    },
    {
     "name": "stdout",
     "output_type": "stream",
     "text": [
      "\n",
      "      Epoch    GPU_mem   box_loss   cls_loss   dfl_loss  Instances       Size\n"
     ]
    },
    {
     "name": "stderr",
     "output_type": "stream",
     "text": [
      "     33/150      22.1G      1.191      1.538       1.66         14        640: 100%|██████████| 20/20 [00:04<00:00,  4.77it/s]\n",
      "                 Class     Images  Instances      Box(P          R      mAP50  mAP50-95): 100%|██████████| 3/3 [00:00<00:00,  5.22it/s]"
     ]
    },
    {
     "name": "stdout",
     "output_type": "stream",
     "text": [
      "                   all         77         91       0.67      0.628      0.729      0.443\n"
     ]
    },
    {
     "name": "stderr",
     "output_type": "stream",
     "text": [
      "\n"
     ]
    },
    {
     "name": "stdout",
     "output_type": "stream",
     "text": [
      "\n",
      "      Epoch    GPU_mem   box_loss   cls_loss   dfl_loss  Instances       Size\n"
     ]
    },
    {
     "name": "stderr",
     "output_type": "stream",
     "text": [
      "     34/150      22.1G       1.15      1.521      1.626         14        640: 100%|██████████| 20/20 [00:04<00:00,  4.81it/s]\n",
      "                 Class     Images  Instances      Box(P          R      mAP50  mAP50-95): 100%|██████████| 3/3 [00:00<00:00,  5.31it/s]"
     ]
    },
    {
     "name": "stdout",
     "output_type": "stream",
     "text": [
      "                   all         77         91      0.575      0.642      0.673      0.447\n"
     ]
    },
    {
     "name": "stderr",
     "output_type": "stream",
     "text": [
      "\n"
     ]
    },
    {
     "name": "stdout",
     "output_type": "stream",
     "text": [
      "\n",
      "      Epoch    GPU_mem   box_loss   cls_loss   dfl_loss  Instances       Size\n"
     ]
    },
    {
     "name": "stderr",
     "output_type": "stream",
     "text": [
      "     35/150      22.1G       1.19      1.614      1.657         17        640: 100%|██████████| 20/20 [00:04<00:00,  4.79it/s]\n",
      "                 Class     Images  Instances      Box(P          R      mAP50  mAP50-95): 100%|██████████| 3/3 [00:00<00:00,  5.17it/s]"
     ]
    },
    {
     "name": "stdout",
     "output_type": "stream",
     "text": [
      "                   all         77         91      0.666      0.706      0.794      0.502\n"
     ]
    },
    {
     "name": "stderr",
     "output_type": "stream",
     "text": [
      "\n"
     ]
    },
    {
     "name": "stdout",
     "output_type": "stream",
     "text": [
      "\n",
      "      Epoch    GPU_mem   box_loss   cls_loss   dfl_loss  Instances       Size\n"
     ]
    },
    {
     "name": "stderr",
     "output_type": "stream",
     "text": [
      "     36/150      22.1G      1.141      1.475      1.611         31        640: 100%|██████████| 20/20 [00:04<00:00,  4.75it/s]\n",
      "                 Class     Images  Instances      Box(P          R      mAP50  mAP50-95): 100%|██████████| 3/3 [00:00<00:00,  4.96it/s]"
     ]
    },
    {
     "name": "stdout",
     "output_type": "stream",
     "text": [
      "                   all         77         91      0.709      0.612      0.711      0.443\n"
     ]
    },
    {
     "name": "stderr",
     "output_type": "stream",
     "text": [
      "\n"
     ]
    },
    {
     "name": "stdout",
     "output_type": "stream",
     "text": [
      "\n",
      "      Epoch    GPU_mem   box_loss   cls_loss   dfl_loss  Instances       Size\n"
     ]
    },
    {
     "name": "stderr",
     "output_type": "stream",
     "text": [
      "     37/150      22.2G       1.18       1.54      1.651         22        640: 100%|██████████| 20/20 [00:04<00:00,  4.83it/s]\n",
      "                 Class     Images  Instances      Box(P          R      mAP50  mAP50-95): 100%|██████████| 3/3 [00:00<00:00,  5.13it/s]"
     ]
    },
    {
     "name": "stdout",
     "output_type": "stream",
     "text": [
      "                   all         77         91      0.677       0.66      0.737      0.457\n"
     ]
    },
    {
     "name": "stderr",
     "output_type": "stream",
     "text": [
      "\n"
     ]
    },
    {
     "name": "stdout",
     "output_type": "stream",
     "text": [
      "\n",
      "      Epoch    GPU_mem   box_loss   cls_loss   dfl_loss  Instances       Size\n"
     ]
    },
    {
     "name": "stderr",
     "output_type": "stream",
     "text": [
      "     38/150      22.1G      1.137      1.504       1.62         26        640: 100%|██████████| 20/20 [00:04<00:00,  4.81it/s]\n",
      "                 Class     Images  Instances      Box(P          R      mAP50  mAP50-95): 100%|██████████| 3/3 [00:00<00:00,  5.31it/s]"
     ]
    },
    {
     "name": "stdout",
     "output_type": "stream",
     "text": [
      "                   all         77         91      0.668      0.592      0.727       0.46\n"
     ]
    },
    {
     "name": "stderr",
     "output_type": "stream",
     "text": [
      "\n"
     ]
    },
    {
     "name": "stdout",
     "output_type": "stream",
     "text": [
      "\n",
      "      Epoch    GPU_mem   box_loss   cls_loss   dfl_loss  Instances       Size\n"
     ]
    },
    {
     "name": "stderr",
     "output_type": "stream",
     "text": [
      "     39/150      22.1G      1.166      1.497      1.626         14        640: 100%|██████████| 20/20 [00:04<00:00,  4.80it/s]\n",
      "                 Class     Images  Instances      Box(P          R      mAP50  mAP50-95): 100%|██████████| 3/3 [00:00<00:00,  5.31it/s]"
     ]
    },
    {
     "name": "stdout",
     "output_type": "stream",
     "text": [
      "                   all         77         91      0.685      0.609      0.689      0.448\n"
     ]
    },
    {
     "name": "stderr",
     "output_type": "stream",
     "text": [
      "\n"
     ]
    },
    {
     "name": "stdout",
     "output_type": "stream",
     "text": [
      "\n",
      "      Epoch    GPU_mem   box_loss   cls_loss   dfl_loss  Instances       Size\n"
     ]
    },
    {
     "name": "stderr",
     "output_type": "stream",
     "text": [
      "     40/150      22.1G       1.14      1.419        1.6         16        640: 100%|██████████| 20/20 [00:04<00:00,  4.81it/s]\n",
      "                 Class     Images  Instances      Box(P          R      mAP50  mAP50-95): 100%|██████████| 3/3 [00:00<00:00,  5.29it/s]"
     ]
    },
    {
     "name": "stdout",
     "output_type": "stream",
     "text": [
      "                   all         77         91      0.779      0.701      0.795      0.496\n"
     ]
    },
    {
     "name": "stderr",
     "output_type": "stream",
     "text": [
      "\n"
     ]
    },
    {
     "name": "stdout",
     "output_type": "stream",
     "text": [
      "\n",
      "      Epoch    GPU_mem   box_loss   cls_loss   dfl_loss  Instances       Size\n"
     ]
    },
    {
     "name": "stderr",
     "output_type": "stream",
     "text": [
      "     41/150      22.1G      1.138       1.43        1.6         14        640: 100%|██████████| 20/20 [00:04<00:00,  4.79it/s]\n",
      "                 Class     Images  Instances      Box(P          R      mAP50  mAP50-95): 100%|██████████| 3/3 [00:00<00:00,  5.15it/s]"
     ]
    },
    {
     "name": "stdout",
     "output_type": "stream",
     "text": [
      "                   all         77         91      0.676      0.681       0.74      0.471\n"
     ]
    },
    {
     "name": "stderr",
     "output_type": "stream",
     "text": [
      "\n"
     ]
    },
    {
     "name": "stdout",
     "output_type": "stream",
     "text": [
      "\n",
      "      Epoch    GPU_mem   box_loss   cls_loss   dfl_loss  Instances       Size\n"
     ]
    },
    {
     "name": "stderr",
     "output_type": "stream",
     "text": [
      "     42/150      22.1G      1.155       1.46      1.591         20        640: 100%|██████████| 20/20 [00:04<00:00,  4.78it/s]\n",
      "                 Class     Images  Instances      Box(P          R      mAP50  mAP50-95): 100%|██████████| 3/3 [00:00<00:00,  5.23it/s]"
     ]
    },
    {
     "name": "stdout",
     "output_type": "stream",
     "text": [
      "                   all         77         91      0.761       0.56      0.709      0.452\n"
     ]
    },
    {
     "name": "stderr",
     "output_type": "stream",
     "text": [
      "\n"
     ]
    },
    {
     "name": "stdout",
     "output_type": "stream",
     "text": [
      "\n",
      "      Epoch    GPU_mem   box_loss   cls_loss   dfl_loss  Instances       Size\n"
     ]
    },
    {
     "name": "stderr",
     "output_type": "stream",
     "text": [
      "     43/150      22.1G       1.11      1.406      1.565         24        640: 100%|██████████| 20/20 [00:04<00:00,  4.82it/s]\n",
      "                 Class     Images  Instances      Box(P          R      mAP50  mAP50-95): 100%|██████████| 3/3 [00:00<00:00,  5.30it/s]"
     ]
    },
    {
     "name": "stdout",
     "output_type": "stream",
     "text": [
      "                   all         77         91      0.753      0.621      0.749      0.488\n"
     ]
    },
    {
     "name": "stderr",
     "output_type": "stream",
     "text": [
      "\n"
     ]
    },
    {
     "name": "stdout",
     "output_type": "stream",
     "text": [
      "\n",
      "      Epoch    GPU_mem   box_loss   cls_loss   dfl_loss  Instances       Size\n"
     ]
    },
    {
     "name": "stderr",
     "output_type": "stream",
     "text": [
      "     44/150      22.1G      1.129      1.411      1.604         16        640: 100%|██████████| 20/20 [00:04<00:00,  4.80it/s]\n",
      "                 Class     Images  Instances      Box(P          R      mAP50  mAP50-95): 100%|██████████| 3/3 [00:00<00:00,  5.36it/s]"
     ]
    },
    {
     "name": "stdout",
     "output_type": "stream",
     "text": [
      "                   all         77         91      0.601      0.752      0.748      0.488\n"
     ]
    },
    {
     "name": "stderr",
     "output_type": "stream",
     "text": [
      "\n"
     ]
    },
    {
     "name": "stdout",
     "output_type": "stream",
     "text": [
      "\n",
      "      Epoch    GPU_mem   box_loss   cls_loss   dfl_loss  Instances       Size\n"
     ]
    },
    {
     "name": "stderr",
     "output_type": "stream",
     "text": [
      "     45/150      22.1G      1.124      1.326      1.582         13        640: 100%|██████████| 20/20 [00:04<00:00,  4.79it/s]\n",
      "                 Class     Images  Instances      Box(P          R      mAP50  mAP50-95): 100%|██████████| 3/3 [00:00<00:00,  5.31it/s]"
     ]
    },
    {
     "name": "stdout",
     "output_type": "stream",
     "text": [
      "                   all         77         91      0.588      0.602      0.621      0.413\n"
     ]
    },
    {
     "name": "stderr",
     "output_type": "stream",
     "text": [
      "\n"
     ]
    },
    {
     "name": "stdout",
     "output_type": "stream",
     "text": [
      "\n",
      "      Epoch    GPU_mem   box_loss   cls_loss   dfl_loss  Instances       Size\n"
     ]
    },
    {
     "name": "stderr",
     "output_type": "stream",
     "text": [
      "     46/150      22.1G       1.11      1.322      1.561         22        640: 100%|██████████| 20/20 [00:04<00:00,  4.83it/s]\n",
      "                 Class     Images  Instances      Box(P          R      mAP50  mAP50-95): 100%|██████████| 3/3 [00:00<00:00,  5.24it/s]"
     ]
    },
    {
     "name": "stdout",
     "output_type": "stream",
     "text": [
      "                   all         77         91      0.524      0.724      0.694      0.463\n"
     ]
    },
    {
     "name": "stderr",
     "output_type": "stream",
     "text": [
      "\n"
     ]
    },
    {
     "name": "stdout",
     "output_type": "stream",
     "text": [
      "\n",
      "      Epoch    GPU_mem   box_loss   cls_loss   dfl_loss  Instances       Size\n"
     ]
    },
    {
     "name": "stderr",
     "output_type": "stream",
     "text": [
      "     47/150      22.1G      1.107       1.41       1.59         17        640: 100%|██████████| 20/20 [00:04<00:00,  4.83it/s]\n",
      "                 Class     Images  Instances      Box(P          R      mAP50  mAP50-95): 100%|██████████| 3/3 [00:00<00:00,  5.21it/s]"
     ]
    },
    {
     "name": "stdout",
     "output_type": "stream",
     "text": [
      "                   all         77         91      0.593       0.73      0.729      0.478\n"
     ]
    },
    {
     "name": "stderr",
     "output_type": "stream",
     "text": [
      "\n"
     ]
    },
    {
     "name": "stdout",
     "output_type": "stream",
     "text": [
      "\n",
      "      Epoch    GPU_mem   box_loss   cls_loss   dfl_loss  Instances       Size\n"
     ]
    },
    {
     "name": "stderr",
     "output_type": "stream",
     "text": [
      "     48/150      22.1G      1.026       1.27      1.519         21        640: 100%|██████████| 20/20 [00:04<00:00,  4.81it/s]\n",
      "                 Class     Images  Instances      Box(P          R      mAP50  mAP50-95): 100%|██████████| 3/3 [00:00<00:00,  4.96it/s]"
     ]
    },
    {
     "name": "stdout",
     "output_type": "stream",
     "text": [
      "                   all         77         91      0.657      0.752      0.768      0.515\n"
     ]
    },
    {
     "name": "stderr",
     "output_type": "stream",
     "text": [
      "\n"
     ]
    },
    {
     "name": "stdout",
     "output_type": "stream",
     "text": [
      "\n",
      "      Epoch    GPU_mem   box_loss   cls_loss   dfl_loss  Instances       Size\n"
     ]
    },
    {
     "name": "stderr",
     "output_type": "stream",
     "text": [
      "     49/150      22.2G      1.091      1.308      1.552         12        640: 100%|██████████| 20/20 [00:04<00:00,  4.77it/s]\n",
      "                 Class     Images  Instances      Box(P          R      mAP50  mAP50-95): 100%|██████████| 3/3 [00:00<00:00,  5.14it/s]"
     ]
    },
    {
     "name": "stdout",
     "output_type": "stream",
     "text": [
      "                   all         77         91      0.713       0.73      0.777        0.5\n"
     ]
    },
    {
     "name": "stderr",
     "output_type": "stream",
     "text": [
      "\n"
     ]
    },
    {
     "name": "stdout",
     "output_type": "stream",
     "text": [
      "\n",
      "      Epoch    GPU_mem   box_loss   cls_loss   dfl_loss  Instances       Size\n"
     ]
    },
    {
     "name": "stderr",
     "output_type": "stream",
     "text": [
      "     50/150      22.1G      1.062      1.235      1.541         26        640: 100%|██████████| 20/20 [00:04<00:00,  4.83it/s]\n",
      "                 Class     Images  Instances      Box(P          R      mAP50  mAP50-95): 100%|██████████| 3/3 [00:00<00:00,  5.35it/s]"
     ]
    },
    {
     "name": "stdout",
     "output_type": "stream",
     "text": [
      "                   all         77         91      0.614      0.715      0.743      0.486\n"
     ]
    },
    {
     "name": "stderr",
     "output_type": "stream",
     "text": [
      "\n"
     ]
    },
    {
     "name": "stdout",
     "output_type": "stream",
     "text": [
      "\n",
      "      Epoch    GPU_mem   box_loss   cls_loss   dfl_loss  Instances       Size\n"
     ]
    },
    {
     "name": "stderr",
     "output_type": "stream",
     "text": [
      "     51/150      22.1G      1.052      1.174      1.499         19        640: 100%|██████████| 20/20 [00:04<00:00,  4.81it/s]\n",
      "                 Class     Images  Instances      Box(P          R      mAP50  mAP50-95): 100%|██████████| 3/3 [00:00<00:00,  5.29it/s]"
     ]
    },
    {
     "name": "stdout",
     "output_type": "stream",
     "text": [
      "                   all         77         91      0.584      0.711      0.737      0.472\n"
     ]
    },
    {
     "name": "stderr",
     "output_type": "stream",
     "text": [
      "\n"
     ]
    },
    {
     "name": "stdout",
     "output_type": "stream",
     "text": [
      "\n",
      "      Epoch    GPU_mem   box_loss   cls_loss   dfl_loss  Instances       Size\n"
     ]
    },
    {
     "name": "stderr",
     "output_type": "stream",
     "text": [
      "     52/150      22.1G      1.036      1.202      1.501         19        640: 100%|██████████| 20/20 [00:04<00:00,  4.82it/s]\n",
      "                 Class     Images  Instances      Box(P          R      mAP50  mAP50-95): 100%|██████████| 3/3 [00:00<00:00,  5.07it/s]"
     ]
    },
    {
     "name": "stdout",
     "output_type": "stream",
     "text": [
      "                   all         77         91      0.817      0.659      0.745      0.487\n"
     ]
    },
    {
     "name": "stderr",
     "output_type": "stream",
     "text": [
      "\n"
     ]
    },
    {
     "name": "stdout",
     "output_type": "stream",
     "text": [
      "\n",
      "      Epoch    GPU_mem   box_loss   cls_loss   dfl_loss  Instances       Size\n"
     ]
    },
    {
     "name": "stderr",
     "output_type": "stream",
     "text": [
      "     53/150      22.1G      1.091      1.311      1.544         20        640: 100%|██████████| 20/20 [00:04<00:00,  4.79it/s]\n",
      "                 Class     Images  Instances      Box(P          R      mAP50  mAP50-95): 100%|██████████| 3/3 [00:00<00:00,  5.31it/s]"
     ]
    },
    {
     "name": "stdout",
     "output_type": "stream",
     "text": [
      "                   all         77         91      0.709      0.767       0.78      0.516\n"
     ]
    },
    {
     "name": "stderr",
     "output_type": "stream",
     "text": [
      "\n"
     ]
    },
    {
     "name": "stdout",
     "output_type": "stream",
     "text": [
      "\n",
      "      Epoch    GPU_mem   box_loss   cls_loss   dfl_loss  Instances       Size\n"
     ]
    },
    {
     "name": "stderr",
     "output_type": "stream",
     "text": [
      "     54/150      22.1G      1.034      1.224      1.522         18        640: 100%|██████████| 20/20 [00:04<00:00,  4.76it/s]\n",
      "                 Class     Images  Instances      Box(P          R      mAP50  mAP50-95): 100%|██████████| 3/3 [00:00<00:00,  5.18it/s]"
     ]
    },
    {
     "name": "stdout",
     "output_type": "stream",
     "text": [
      "                   all         77         91      0.744      0.711       0.76      0.494\n"
     ]
    },
    {
     "name": "stderr",
     "output_type": "stream",
     "text": [
      "\n"
     ]
    },
    {
     "name": "stdout",
     "output_type": "stream",
     "text": [
      "\n",
      "      Epoch    GPU_mem   box_loss   cls_loss   dfl_loss  Instances       Size\n"
     ]
    },
    {
     "name": "stderr",
     "output_type": "stream",
     "text": [
      "     55/150      22.1G     0.9851      1.118      1.479         13        640: 100%|██████████| 20/20 [00:04<00:00,  4.79it/s]\n",
      "                 Class     Images  Instances      Box(P          R      mAP50  mAP50-95): 100%|██████████| 3/3 [00:00<00:00,  5.11it/s]"
     ]
    },
    {
     "name": "stdout",
     "output_type": "stream",
     "text": [
      "                   all         77         91      0.698      0.653      0.752      0.492\n"
     ]
    },
    {
     "name": "stderr",
     "output_type": "stream",
     "text": [
      "\n"
     ]
    },
    {
     "name": "stdout",
     "output_type": "stream",
     "text": [
      "\n",
      "      Epoch    GPU_mem   box_loss   cls_loss   dfl_loss  Instances       Size\n"
     ]
    },
    {
     "name": "stderr",
     "output_type": "stream",
     "text": [
      "     56/150      22.1G      1.022      1.148      1.506         16        640: 100%|██████████| 20/20 [00:04<00:00,  4.79it/s]\n",
      "                 Class     Images  Instances      Box(P          R      mAP50  mAP50-95): 100%|██████████| 3/3 [00:00<00:00,  5.30it/s]"
     ]
    },
    {
     "name": "stdout",
     "output_type": "stream",
     "text": [
      "                   all         77         91      0.673      0.589      0.661      0.424\n"
     ]
    },
    {
     "name": "stderr",
     "output_type": "stream",
     "text": [
      "\n"
     ]
    },
    {
     "name": "stdout",
     "output_type": "stream",
     "text": [
      "\n",
      "      Epoch    GPU_mem   box_loss   cls_loss   dfl_loss  Instances       Size\n"
     ]
    },
    {
     "name": "stderr",
     "output_type": "stream",
     "text": [
      "     57/150      22.1G      1.022      1.165      1.495         23        640: 100%|██████████| 20/20 [00:04<00:00,  4.76it/s]\n",
      "                 Class     Images  Instances      Box(P          R      mAP50  mAP50-95): 100%|██████████| 3/3 [00:00<00:00,  5.16it/s]"
     ]
    },
    {
     "name": "stdout",
     "output_type": "stream",
     "text": [
      "                   all         77         91      0.551      0.712      0.694      0.426\n"
     ]
    },
    {
     "name": "stderr",
     "output_type": "stream",
     "text": [
      "\n"
     ]
    },
    {
     "name": "stdout",
     "output_type": "stream",
     "text": [
      "\n",
      "      Epoch    GPU_mem   box_loss   cls_loss   dfl_loss  Instances       Size\n"
     ]
    },
    {
     "name": "stderr",
     "output_type": "stream",
     "text": [
      "     58/150      22.1G      1.026      1.159      1.485         18        640: 100%|██████████| 20/20 [00:04<00:00,  4.78it/s]\n",
      "                 Class     Images  Instances      Box(P          R      mAP50  mAP50-95): 100%|██████████| 3/3 [00:00<00:00,  5.03it/s]"
     ]
    },
    {
     "name": "stdout",
     "output_type": "stream",
     "text": [
      "                   all         77         91      0.736      0.684      0.758      0.475\n"
     ]
    },
    {
     "name": "stderr",
     "output_type": "stream",
     "text": [
      "\n"
     ]
    },
    {
     "name": "stdout",
     "output_type": "stream",
     "text": [
      "\n",
      "      Epoch    GPU_mem   box_loss   cls_loss   dfl_loss  Instances       Size\n"
     ]
    },
    {
     "name": "stderr",
     "output_type": "stream",
     "text": [
      "     59/150      22.1G      1.033       1.17      1.523         18        640: 100%|██████████| 20/20 [00:04<00:00,  4.77it/s]\n",
      "                 Class     Images  Instances      Box(P          R      mAP50  mAP50-95): 100%|██████████| 3/3 [00:00<00:00,  5.28it/s]"
     ]
    },
    {
     "name": "stdout",
     "output_type": "stream",
     "text": [
      "                   all         77         91      0.651      0.795      0.795      0.488\n"
     ]
    },
    {
     "name": "stderr",
     "output_type": "stream",
     "text": [
      "\n"
     ]
    },
    {
     "name": "stdout",
     "output_type": "stream",
     "text": [
      "\n",
      "      Epoch    GPU_mem   box_loss   cls_loss   dfl_loss  Instances       Size\n"
     ]
    },
    {
     "name": "stderr",
     "output_type": "stream",
     "text": [
      "     60/150      22.1G     0.9962      1.154      1.478         18        640: 100%|██████████| 20/20 [00:04<00:00,  4.79it/s]\n",
      "                 Class     Images  Instances      Box(P          R      mAP50  mAP50-95): 100%|██████████| 3/3 [00:00<00:00,  5.33it/s]"
     ]
    },
    {
     "name": "stdout",
     "output_type": "stream",
     "text": [
      "                   all         77         91      0.631      0.782      0.751      0.476\n"
     ]
    },
    {
     "name": "stderr",
     "output_type": "stream",
     "text": [
      "\n"
     ]
    },
    {
     "name": "stdout",
     "output_type": "stream",
     "text": [
      "\n",
      "      Epoch    GPU_mem   box_loss   cls_loss   dfl_loss  Instances       Size\n"
     ]
    },
    {
     "name": "stderr",
     "output_type": "stream",
     "text": [
      "     61/150      22.1G      1.019      1.198      1.499         21        640: 100%|██████████| 20/20 [00:04<00:00,  4.78it/s]\n",
      "                 Class     Images  Instances      Box(P          R      mAP50  mAP50-95): 100%|██████████| 3/3 [00:00<00:00,  5.27it/s]"
     ]
    },
    {
     "name": "stdout",
     "output_type": "stream",
     "text": [
      "                   all         77         91       0.73      0.746       0.81      0.511\n"
     ]
    },
    {
     "name": "stderr",
     "output_type": "stream",
     "text": [
      "\n"
     ]
    },
    {
     "name": "stdout",
     "output_type": "stream",
     "text": [
      "\n",
      "      Epoch    GPU_mem   box_loss   cls_loss   dfl_loss  Instances       Size\n"
     ]
    },
    {
     "name": "stderr",
     "output_type": "stream",
     "text": [
      "     62/150      22.1G     0.9517      1.054      1.447         19        640: 100%|██████████| 20/20 [00:04<00:00,  4.81it/s]\n",
      "                 Class     Images  Instances      Box(P          R      mAP50  mAP50-95): 100%|██████████| 3/3 [00:00<00:00,  5.32it/s]"
     ]
    },
    {
     "name": "stdout",
     "output_type": "stream",
     "text": [
      "                   all         77         91      0.643      0.698      0.738      0.462\n"
     ]
    },
    {
     "name": "stderr",
     "output_type": "stream",
     "text": [
      "\n"
     ]
    },
    {
     "name": "stdout",
     "output_type": "stream",
     "text": [
      "\n",
      "      Epoch    GPU_mem   box_loss   cls_loss   dfl_loss  Instances       Size\n"
     ]
    },
    {
     "name": "stderr",
     "output_type": "stream",
     "text": [
      "     63/150      22.1G     0.9668      1.096      1.451         16        640: 100%|██████████| 20/20 [00:04<00:00,  4.78it/s]\n",
      "                 Class     Images  Instances      Box(P          R      mAP50  mAP50-95): 100%|██████████| 3/3 [00:00<00:00,  5.13it/s]"
     ]
    },
    {
     "name": "stdout",
     "output_type": "stream",
     "text": [
      "                   all         77         91      0.752      0.685      0.777        0.5\n"
     ]
    },
    {
     "name": "stderr",
     "output_type": "stream",
     "text": [
      "\n"
     ]
    },
    {
     "name": "stdout",
     "output_type": "stream",
     "text": [
      "\n",
      "      Epoch    GPU_mem   box_loss   cls_loss   dfl_loss  Instances       Size\n"
     ]
    },
    {
     "name": "stderr",
     "output_type": "stream",
     "text": [
      "     64/150      22.1G     0.9821      1.141      1.459         31        640: 100%|██████████| 20/20 [00:04<00:00,  4.82it/s]\n",
      "                 Class     Images  Instances      Box(P          R      mAP50  mAP50-95): 100%|██████████| 3/3 [00:00<00:00,  5.37it/s]"
     ]
    },
    {
     "name": "stdout",
     "output_type": "stream",
     "text": [
      "                   all         77         91      0.677      0.757      0.799      0.511\n"
     ]
    },
    {
     "name": "stderr",
     "output_type": "stream",
     "text": [
      "\n"
     ]
    },
    {
     "name": "stdout",
     "output_type": "stream",
     "text": [
      "\n",
      "      Epoch    GPU_mem   box_loss   cls_loss   dfl_loss  Instances       Size\n"
     ]
    },
    {
     "name": "stderr",
     "output_type": "stream",
     "text": [
      "     65/150      22.1G      1.015      1.175      1.489         21        640: 100%|██████████| 20/20 [00:04<00:00,  4.78it/s]\n",
      "                 Class     Images  Instances      Box(P          R      mAP50  mAP50-95): 100%|██████████| 3/3 [00:00<00:00,  5.31it/s]"
     ]
    },
    {
     "name": "stdout",
     "output_type": "stream",
     "text": [
      "                   all         77         91      0.701      0.766      0.789      0.512\n"
     ]
    },
    {
     "name": "stderr",
     "output_type": "stream",
     "text": [
      "\n"
     ]
    },
    {
     "name": "stdout",
     "output_type": "stream",
     "text": [
      "\n",
      "      Epoch    GPU_mem   box_loss   cls_loss   dfl_loss  Instances       Size\n"
     ]
    },
    {
     "name": "stderr",
     "output_type": "stream",
     "text": [
      "     66/150      22.1G     0.9564       1.07      1.445         19        640: 100%|██████████| 20/20 [00:04<00:00,  4.77it/s]\n",
      "                 Class     Images  Instances      Box(P          R      mAP50  mAP50-95): 100%|██████████| 3/3 [00:00<00:00,  5.29it/s]"
     ]
    },
    {
     "name": "stdout",
     "output_type": "stream",
     "text": [
      "                   all         77         91      0.644      0.769      0.799      0.517\n"
     ]
    },
    {
     "name": "stderr",
     "output_type": "stream",
     "text": [
      "\n"
     ]
    },
    {
     "name": "stdout",
     "output_type": "stream",
     "text": [
      "\n",
      "      Epoch    GPU_mem   box_loss   cls_loss   dfl_loss  Instances       Size\n"
     ]
    },
    {
     "name": "stderr",
     "output_type": "stream",
     "text": [
      "     67/150      22.1G     0.9254      1.054      1.406         22        640: 100%|██████████| 20/20 [00:04<00:00,  4.74it/s]\n",
      "                 Class     Images  Instances      Box(P          R      mAP50  mAP50-95): 100%|██████████| 3/3 [00:00<00:00,  4.99it/s]"
     ]
    },
    {
     "name": "stdout",
     "output_type": "stream",
     "text": [
      "                   all         77         91      0.837      0.717      0.802      0.508\n"
     ]
    },
    {
     "name": "stderr",
     "output_type": "stream",
     "text": [
      "\n"
     ]
    },
    {
     "name": "stdout",
     "output_type": "stream",
     "text": [
      "\n",
      "      Epoch    GPU_mem   box_loss   cls_loss   dfl_loss  Instances       Size\n"
     ]
    },
    {
     "name": "stderr",
     "output_type": "stream",
     "text": [
      "     68/150      22.1G     0.9385      1.018      1.432         23        640: 100%|██████████| 20/20 [00:04<00:00,  4.80it/s]\n",
      "                 Class     Images  Instances      Box(P          R      mAP50  mAP50-95): 100%|██████████| 3/3 [00:00<00:00,  5.32it/s]"
     ]
    },
    {
     "name": "stdout",
     "output_type": "stream",
     "text": [
      "                   all         77         91      0.748      0.722      0.787      0.488\n"
     ]
    },
    {
     "name": "stderr",
     "output_type": "stream",
     "text": [
      "\n"
     ]
    },
    {
     "name": "stdout",
     "output_type": "stream",
     "text": [
      "\n",
      "      Epoch    GPU_mem   box_loss   cls_loss   dfl_loss  Instances       Size\n"
     ]
    },
    {
     "name": "stderr",
     "output_type": "stream",
     "text": [
      "     69/150      22.1G     0.9292      1.066      1.431         19        640: 100%|██████████| 20/20 [00:04<00:00,  4.80it/s]\n",
      "                 Class     Images  Instances      Box(P          R      mAP50  mAP50-95): 100%|██████████| 3/3 [00:00<00:00,  5.36it/s]"
     ]
    },
    {
     "name": "stdout",
     "output_type": "stream",
     "text": [
      "                   all         77         91      0.826      0.708      0.815      0.506\n"
     ]
    },
    {
     "name": "stderr",
     "output_type": "stream",
     "text": [
      "\n"
     ]
    },
    {
     "name": "stdout",
     "output_type": "stream",
     "text": [
      "\n",
      "      Epoch    GPU_mem   box_loss   cls_loss   dfl_loss  Instances       Size\n"
     ]
    },
    {
     "name": "stderr",
     "output_type": "stream",
     "text": [
      "     70/150      22.1G     0.9322      1.042      1.418         20        640: 100%|██████████| 20/20 [00:04<00:00,  4.78it/s]\n",
      "                 Class     Images  Instances      Box(P          R      mAP50  mAP50-95): 100%|██████████| 3/3 [00:00<00:00,  5.25it/s]"
     ]
    },
    {
     "name": "stdout",
     "output_type": "stream",
     "text": [
      "                   all         77         91      0.694      0.753      0.762      0.473\n"
     ]
    },
    {
     "name": "stderr",
     "output_type": "stream",
     "text": [
      "\n"
     ]
    },
    {
     "name": "stdout",
     "output_type": "stream",
     "text": [
      "\n",
      "      Epoch    GPU_mem   box_loss   cls_loss   dfl_loss  Instances       Size\n"
     ]
    },
    {
     "name": "stderr",
     "output_type": "stream",
     "text": [
      "     71/150      22.1G     0.8966     0.9893      1.384         21        640: 100%|██████████| 20/20 [00:04<00:00,  4.78it/s]\n",
      "                 Class     Images  Instances      Box(P          R      mAP50  mAP50-95): 100%|██████████| 3/3 [00:00<00:00,  5.31it/s]"
     ]
    },
    {
     "name": "stdout",
     "output_type": "stream",
     "text": [
      "                   all         77         91      0.759       0.66      0.765       0.52\n"
     ]
    },
    {
     "name": "stderr",
     "output_type": "stream",
     "text": [
      "\n"
     ]
    },
    {
     "name": "stdout",
     "output_type": "stream",
     "text": [
      "\n",
      "      Epoch    GPU_mem   box_loss   cls_loss   dfl_loss  Instances       Size\n"
     ]
    },
    {
     "name": "stderr",
     "output_type": "stream",
     "text": [
      "     72/150      22.1G      0.962       1.12      1.464         22        640: 100%|██████████| 20/20 [00:04<00:00,  4.74it/s]\n",
      "                 Class     Images  Instances      Box(P          R      mAP50  mAP50-95): 100%|██████████| 3/3 [00:00<00:00,  5.24it/s]"
     ]
    },
    {
     "name": "stdout",
     "output_type": "stream",
     "text": [
      "                   all         77         91      0.726      0.626       0.75      0.488\n"
     ]
    },
    {
     "name": "stderr",
     "output_type": "stream",
     "text": [
      "\n"
     ]
    },
    {
     "name": "stdout",
     "output_type": "stream",
     "text": [
      "\n",
      "      Epoch    GPU_mem   box_loss   cls_loss   dfl_loss  Instances       Size\n"
     ]
    },
    {
     "name": "stderr",
     "output_type": "stream",
     "text": [
      "     73/150      22.1G     0.8881      1.005      1.397         22        640: 100%|██████████| 20/20 [00:04<00:00,  4.79it/s]\n",
      "                 Class     Images  Instances      Box(P          R      mAP50  mAP50-95): 100%|██████████| 3/3 [00:00<00:00,  5.32it/s]"
     ]
    },
    {
     "name": "stdout",
     "output_type": "stream",
     "text": [
      "                   all         77         91      0.714      0.656       0.73      0.463\n"
     ]
    },
    {
     "name": "stderr",
     "output_type": "stream",
     "text": [
      "\n"
     ]
    },
    {
     "name": "stdout",
     "output_type": "stream",
     "text": [
      "\n",
      "      Epoch    GPU_mem   box_loss   cls_loss   dfl_loss  Instances       Size\n"
     ]
    },
    {
     "name": "stderr",
     "output_type": "stream",
     "text": [
      "     74/150      22.1G     0.9197       1.06      1.408         18        640: 100%|██████████| 20/20 [00:04<00:00,  4.79it/s]\n",
      "                 Class     Images  Instances      Box(P          R      mAP50  mAP50-95): 100%|██████████| 3/3 [00:00<00:00,  5.06it/s]"
     ]
    },
    {
     "name": "stdout",
     "output_type": "stream",
     "text": [
      "                   all         77         91       0.65      0.719       0.75      0.478\n"
     ]
    },
    {
     "name": "stderr",
     "output_type": "stream",
     "text": [
      "\n"
     ]
    },
    {
     "name": "stdout",
     "output_type": "stream",
     "text": [
      "\n",
      "      Epoch    GPU_mem   box_loss   cls_loss   dfl_loss  Instances       Size\n"
     ]
    },
    {
     "name": "stderr",
     "output_type": "stream",
     "text": [
      "     75/150      22.1G     0.8908     0.9835      1.393         16        640: 100%|██████████| 20/20 [00:04<00:00,  4.77it/s]\n",
      "                 Class     Images  Instances      Box(P          R      mAP50  mAP50-95): 100%|██████████| 3/3 [00:00<00:00,  5.33it/s]"
     ]
    },
    {
     "name": "stdout",
     "output_type": "stream",
     "text": [
      "                   all         77         91      0.777      0.665       0.78      0.495\n"
     ]
    },
    {
     "name": "stderr",
     "output_type": "stream",
     "text": [
      "\n"
     ]
    },
    {
     "name": "stdout",
     "output_type": "stream",
     "text": [
      "\n",
      "      Epoch    GPU_mem   box_loss   cls_loss   dfl_loss  Instances       Size\n"
     ]
    },
    {
     "name": "stderr",
     "output_type": "stream",
     "text": [
      "     76/150      22.1G     0.8527     0.9104      1.352         11        640: 100%|██████████| 20/20 [00:04<00:00,  4.79it/s]\n",
      "                 Class     Images  Instances      Box(P          R      mAP50  mAP50-95): 100%|██████████| 3/3 [00:00<00:00,  5.29it/s]"
     ]
    },
    {
     "name": "stdout",
     "output_type": "stream",
     "text": [
      "                   all         77         91      0.726      0.775      0.796      0.492\n"
     ]
    },
    {
     "name": "stderr",
     "output_type": "stream",
     "text": [
      "\n"
     ]
    },
    {
     "name": "stdout",
     "output_type": "stream",
     "text": [
      "\n",
      "      Epoch    GPU_mem   box_loss   cls_loss   dfl_loss  Instances       Size\n"
     ]
    },
    {
     "name": "stderr",
     "output_type": "stream",
     "text": [
      "     77/150      22.1G     0.8673     0.8516      1.375         17        640: 100%|██████████| 20/20 [00:04<00:00,  4.78it/s]\n",
      "                 Class     Images  Instances      Box(P          R      mAP50  mAP50-95): 100%|██████████| 3/3 [00:00<00:00,  5.09it/s]"
     ]
    },
    {
     "name": "stdout",
     "output_type": "stream",
     "text": [
      "                   all         77         91      0.662      0.735      0.768       0.48\n"
     ]
    },
    {
     "name": "stderr",
     "output_type": "stream",
     "text": [
      "\n"
     ]
    },
    {
     "name": "stdout",
     "output_type": "stream",
     "text": [
      "\n",
      "      Epoch    GPU_mem   box_loss   cls_loss   dfl_loss  Instances       Size\n"
     ]
    },
    {
     "name": "stderr",
     "output_type": "stream",
     "text": [
      "     78/150      22.1G      0.896      0.944      1.399         27        640: 100%|██████████| 20/20 [00:04<00:00,  4.76it/s]\n",
      "                 Class     Images  Instances      Box(P          R      mAP50  mAP50-95): 100%|██████████| 3/3 [00:00<00:00,  4.91it/s]"
     ]
    },
    {
     "name": "stdout",
     "output_type": "stream",
     "text": [
      "                   all         77         91      0.705      0.763      0.792      0.508\n"
     ]
    },
    {
     "name": "stderr",
     "output_type": "stream",
     "text": [
      "\n"
     ]
    },
    {
     "name": "stdout",
     "output_type": "stream",
     "text": [
      "\n",
      "      Epoch    GPU_mem   box_loss   cls_loss   dfl_loss  Instances       Size\n"
     ]
    },
    {
     "name": "stderr",
     "output_type": "stream",
     "text": [
      "     79/150      22.1G      0.899     0.9559      1.406         25        640: 100%|██████████| 20/20 [00:04<00:00,  4.72it/s]\n",
      "                 Class     Images  Instances      Box(P          R      mAP50  mAP50-95): 100%|██████████| 3/3 [00:00<00:00,  5.10it/s]"
     ]
    },
    {
     "name": "stdout",
     "output_type": "stream",
     "text": [
      "                   all         77         91      0.649      0.732      0.746      0.462\n"
     ]
    },
    {
     "name": "stderr",
     "output_type": "stream",
     "text": [
      "\n"
     ]
    },
    {
     "name": "stdout",
     "output_type": "stream",
     "text": [
      "\n",
      "      Epoch    GPU_mem   box_loss   cls_loss   dfl_loss  Instances       Size\n"
     ]
    },
    {
     "name": "stderr",
     "output_type": "stream",
     "text": [
      "     80/150      22.1G     0.8422     0.8926      1.352         11        640: 100%|██████████| 20/20 [00:04<00:00,  4.68it/s]\n",
      "                 Class     Images  Instances      Box(P          R      mAP50  mAP50-95): 100%|██████████| 3/3 [00:00<00:00,  5.12it/s]"
     ]
    },
    {
     "name": "stdout",
     "output_type": "stream",
     "text": [
      "                   all         77         91      0.722      0.637       0.71      0.438\n"
     ]
    },
    {
     "name": "stderr",
     "output_type": "stream",
     "text": [
      "\n"
     ]
    },
    {
     "name": "stdout",
     "output_type": "stream",
     "text": [
      "\n",
      "      Epoch    GPU_mem   box_loss   cls_loss   dfl_loss  Instances       Size\n"
     ]
    },
    {
     "name": "stderr",
     "output_type": "stream",
     "text": [
      "     81/150      22.1G     0.8586     0.9448      1.368         18        640: 100%|██████████| 20/20 [00:04<00:00,  4.70it/s]\n",
      "                 Class     Images  Instances      Box(P          R      mAP50  mAP50-95): 100%|██████████| 3/3 [00:00<00:00,  5.30it/s]"
     ]
    },
    {
     "name": "stdout",
     "output_type": "stream",
     "text": [
      "                   all         77         91      0.678      0.687       0.71      0.442\n"
     ]
    },
    {
     "name": "stderr",
     "output_type": "stream",
     "text": [
      "\n"
     ]
    },
    {
     "name": "stdout",
     "output_type": "stream",
     "text": [
      "\n",
      "      Epoch    GPU_mem   box_loss   cls_loss   dfl_loss  Instances       Size\n"
     ]
    },
    {
     "name": "stderr",
     "output_type": "stream",
     "text": [
      "     82/150      22.1G     0.8553      0.919      1.381         19        640: 100%|██████████| 20/20 [00:04<00:00,  4.74it/s]\n",
      "                 Class     Images  Instances      Box(P          R      mAP50  mAP50-95): 100%|██████████| 3/3 [00:00<00:00,  5.17it/s]"
     ]
    },
    {
     "name": "stdout",
     "output_type": "stream",
     "text": [
      "                   all         77         91      0.767      0.651      0.753      0.484\n"
     ]
    },
    {
     "name": "stderr",
     "output_type": "stream",
     "text": [
      "\n"
     ]
    },
    {
     "name": "stdout",
     "output_type": "stream",
     "text": [
      "\n",
      "      Epoch    GPU_mem   box_loss   cls_loss   dfl_loss  Instances       Size\n"
     ]
    },
    {
     "name": "stderr",
     "output_type": "stream",
     "text": [
      "     83/150      22.2G     0.8971     0.9778      1.388         22        640: 100%|██████████| 20/20 [00:04<00:00,  4.75it/s]\n",
      "                 Class     Images  Instances      Box(P          R      mAP50  mAP50-95): 100%|██████████| 3/3 [00:00<00:00,  5.09it/s]"
     ]
    },
    {
     "name": "stdout",
     "output_type": "stream",
     "text": [
      "                   all         77         91        0.6       0.73      0.723      0.466\n"
     ]
    },
    {
     "name": "stderr",
     "output_type": "stream",
     "text": [
      "\n"
     ]
    },
    {
     "name": "stdout",
     "output_type": "stream",
     "text": [
      "\n",
      "      Epoch    GPU_mem   box_loss   cls_loss   dfl_loss  Instances       Size\n"
     ]
    },
    {
     "name": "stderr",
     "output_type": "stream",
     "text": [
      "     84/150      22.1G     0.8515     0.9289      1.356         10        640: 100%|██████████| 20/20 [00:04<00:00,  4.73it/s]\n",
      "                 Class     Images  Instances      Box(P          R      mAP50  mAP50-95): 100%|██████████| 3/3 [00:00<00:00,  4.96it/s]"
     ]
    },
    {
     "name": "stdout",
     "output_type": "stream",
     "text": [
      "                   all         77         91      0.711      0.646      0.738       0.47\n"
     ]
    },
    {
     "name": "stderr",
     "output_type": "stream",
     "text": [
      "\n"
     ]
    },
    {
     "name": "stdout",
     "output_type": "stream",
     "text": [
      "\n",
      "      Epoch    GPU_mem   box_loss   cls_loss   dfl_loss  Instances       Size\n"
     ]
    },
    {
     "name": "stderr",
     "output_type": "stream",
     "text": [
      "     85/150      22.1G     0.8309     0.9083      1.362         16        640: 100%|██████████| 20/20 [00:04<00:00,  4.70it/s]\n",
      "                 Class     Images  Instances      Box(P          R      mAP50  mAP50-95): 100%|██████████| 3/3 [00:00<00:00,  5.06it/s]"
     ]
    },
    {
     "name": "stdout",
     "output_type": "stream",
     "text": [
      "                   all         77         91      0.678      0.694      0.779      0.495\n"
     ]
    },
    {
     "name": "stderr",
     "output_type": "stream",
     "text": [
      "\n"
     ]
    },
    {
     "name": "stdout",
     "output_type": "stream",
     "text": [
      "\n",
      "      Epoch    GPU_mem   box_loss   cls_loss   dfl_loss  Instances       Size\n"
     ]
    },
    {
     "name": "stderr",
     "output_type": "stream",
     "text": [
      "     86/150      22.1G     0.8848     0.9376      1.372         18        640: 100%|██████████| 20/20 [00:04<00:00,  4.70it/s]\n",
      "                 Class     Images  Instances      Box(P          R      mAP50  mAP50-95): 100%|██████████| 3/3 [00:00<00:00,  4.93it/s]"
     ]
    },
    {
     "name": "stdout",
     "output_type": "stream",
     "text": [
      "                   all         77         91      0.687      0.663      0.751      0.488\n"
     ]
    },
    {
     "name": "stderr",
     "output_type": "stream",
     "text": [
      "\n"
     ]
    },
    {
     "name": "stdout",
     "output_type": "stream",
     "text": [
      "\n",
      "      Epoch    GPU_mem   box_loss   cls_loss   dfl_loss  Instances       Size\n"
     ]
    },
    {
     "name": "stderr",
     "output_type": "stream",
     "text": [
      "     87/150      22.1G     0.8445     0.8904      1.347         18        640: 100%|██████████| 20/20 [00:04<00:00,  4.72it/s]\n",
      "                 Class     Images  Instances      Box(P          R      mAP50  mAP50-95): 100%|██████████| 3/3 [00:00<00:00,  5.20it/s]"
     ]
    },
    {
     "name": "stdout",
     "output_type": "stream",
     "text": [
      "                   all         77         91      0.703      0.674      0.773      0.514\n"
     ]
    },
    {
     "name": "stderr",
     "output_type": "stream",
     "text": [
      "\n"
     ]
    },
    {
     "name": "stdout",
     "output_type": "stream",
     "text": [
      "\n",
      "      Epoch    GPU_mem   box_loss   cls_loss   dfl_loss  Instances       Size\n"
     ]
    },
    {
     "name": "stderr",
     "output_type": "stream",
     "text": [
      "     88/150      22.1G     0.8035     0.8498      1.312         22        640: 100%|██████████| 20/20 [00:04<00:00,  4.68it/s]\n",
      "                 Class     Images  Instances      Box(P          R      mAP50  mAP50-95): 100%|██████████| 3/3 [00:00<00:00,  5.14it/s]"
     ]
    },
    {
     "name": "stdout",
     "output_type": "stream",
     "text": [
      "                   all         77         91      0.738      0.753      0.803      0.522\n"
     ]
    },
    {
     "name": "stderr",
     "output_type": "stream",
     "text": [
      "\n"
     ]
    },
    {
     "name": "stdout",
     "output_type": "stream",
     "text": [
      "\n",
      "      Epoch    GPU_mem   box_loss   cls_loss   dfl_loss  Instances       Size\n"
     ]
    },
    {
     "name": "stderr",
     "output_type": "stream",
     "text": [
      "     89/150      22.1G     0.7817     0.8174      1.301         16        640: 100%|██████████| 20/20 [00:04<00:00,  4.72it/s]\n",
      "                 Class     Images  Instances      Box(P          R      mAP50  mAP50-95): 100%|██████████| 3/3 [00:00<00:00,  5.15it/s]"
     ]
    },
    {
     "name": "stdout",
     "output_type": "stream",
     "text": [
      "                   all         77         91      0.821      0.715      0.807      0.524\n"
     ]
    },
    {
     "name": "stderr",
     "output_type": "stream",
     "text": [
      "\n"
     ]
    },
    {
     "name": "stdout",
     "output_type": "stream",
     "text": [
      "\n",
      "      Epoch    GPU_mem   box_loss   cls_loss   dfl_loss  Instances       Size\n"
     ]
    },
    {
     "name": "stderr",
     "output_type": "stream",
     "text": [
      "     90/150      22.1G     0.8477     0.8811      1.355         19        640: 100%|██████████| 20/20 [00:04<00:00,  4.70it/s]\n",
      "                 Class     Images  Instances      Box(P          R      mAP50  mAP50-95): 100%|██████████| 3/3 [00:00<00:00,  4.90it/s]"
     ]
    },
    {
     "name": "stdout",
     "output_type": "stream",
     "text": [
      "                   all         77         91      0.736       0.73      0.775      0.499\n"
     ]
    },
    {
     "name": "stderr",
     "output_type": "stream",
     "text": [
      "\n"
     ]
    },
    {
     "name": "stdout",
     "output_type": "stream",
     "text": [
      "\n",
      "      Epoch    GPU_mem   box_loss   cls_loss   dfl_loss  Instances       Size\n"
     ]
    },
    {
     "name": "stderr",
     "output_type": "stream",
     "text": [
      "     91/150      22.1G     0.8033     0.8124      1.318         17        640: 100%|██████████| 20/20 [00:04<00:00,  4.76it/s]\n",
      "                 Class     Images  Instances      Box(P          R      mAP50  mAP50-95): 100%|██████████| 3/3 [00:00<00:00,  5.24it/s]"
     ]
    },
    {
     "name": "stdout",
     "output_type": "stream",
     "text": [
      "                   all         77         91      0.738      0.725      0.796      0.493\n"
     ]
    },
    {
     "name": "stderr",
     "output_type": "stream",
     "text": [
      "\n"
     ]
    },
    {
     "name": "stdout",
     "output_type": "stream",
     "text": [
      "\n",
      "      Epoch    GPU_mem   box_loss   cls_loss   dfl_loss  Instances       Size\n"
     ]
    },
    {
     "name": "stderr",
     "output_type": "stream",
     "text": [
      "     92/150      22.1G      0.812     0.8457      1.318         21        640: 100%|██████████| 20/20 [00:04<00:00,  4.77it/s]\n",
      "                 Class     Images  Instances      Box(P          R      mAP50  mAP50-95): 100%|██████████| 3/3 [00:00<00:00,  5.11it/s]"
     ]
    },
    {
     "name": "stdout",
     "output_type": "stream",
     "text": [
      "                   all         77         91      0.772      0.713      0.807      0.517\n"
     ]
    },
    {
     "name": "stderr",
     "output_type": "stream",
     "text": [
      "\n"
     ]
    },
    {
     "name": "stdout",
     "output_type": "stream",
     "text": [
      "\n",
      "      Epoch    GPU_mem   box_loss   cls_loss   dfl_loss  Instances       Size\n"
     ]
    },
    {
     "name": "stderr",
     "output_type": "stream",
     "text": [
      "     93/150      22.1G     0.7856     0.8189      1.309         16        640: 100%|██████████| 20/20 [00:04<00:00,  4.75it/s]\n",
      "                 Class     Images  Instances      Box(P          R      mAP50  mAP50-95): 100%|██████████| 3/3 [00:00<00:00,  5.20it/s]"
     ]
    },
    {
     "name": "stdout",
     "output_type": "stream",
     "text": [
      "                   all         77         91      0.757      0.726      0.787      0.507\n"
     ]
    },
    {
     "name": "stderr",
     "output_type": "stream",
     "text": [
      "\n"
     ]
    },
    {
     "name": "stdout",
     "output_type": "stream",
     "text": [
      "\n",
      "      Epoch    GPU_mem   box_loss   cls_loss   dfl_loss  Instances       Size\n"
     ]
    },
    {
     "name": "stderr",
     "output_type": "stream",
     "text": [
      "     94/150      22.1G     0.8177     0.8138      1.334         22        640: 100%|██████████| 20/20 [00:04<00:00,  4.74it/s]\n",
      "                 Class     Images  Instances      Box(P          R      mAP50  mAP50-95): 100%|██████████| 3/3 [00:00<00:00,  5.16it/s]"
     ]
    },
    {
     "name": "stdout",
     "output_type": "stream",
     "text": [
      "                   all         77         91      0.709      0.783      0.789       0.52\n"
     ]
    },
    {
     "name": "stderr",
     "output_type": "stream",
     "text": [
      "\n"
     ]
    },
    {
     "name": "stdout",
     "output_type": "stream",
     "text": [
      "\n",
      "      Epoch    GPU_mem   box_loss   cls_loss   dfl_loss  Instances       Size\n"
     ]
    },
    {
     "name": "stderr",
     "output_type": "stream",
     "text": [
      "     95/150      22.1G     0.7551     0.7938      1.301         20        640: 100%|██████████| 20/20 [00:04<00:00,  4.78it/s]\n",
      "                 Class     Images  Instances      Box(P          R      mAP50  mAP50-95): 100%|██████████| 3/3 [00:00<00:00,  5.13it/s]"
     ]
    },
    {
     "name": "stdout",
     "output_type": "stream",
     "text": [
      "                   all         77         91      0.736      0.734      0.785      0.502\n"
     ]
    },
    {
     "name": "stderr",
     "output_type": "stream",
     "text": [
      "\n"
     ]
    },
    {
     "name": "stdout",
     "output_type": "stream",
     "text": [
      "\n",
      "      Epoch    GPU_mem   box_loss   cls_loss   dfl_loss  Instances       Size\n"
     ]
    },
    {
     "name": "stderr",
     "output_type": "stream",
     "text": [
      "     96/150      22.1G     0.8313     0.9218      1.357         19        640: 100%|██████████| 20/20 [00:04<00:00,  4.74it/s]\n",
      "                 Class     Images  Instances      Box(P          R      mAP50  mAP50-95): 100%|██████████| 3/3 [00:00<00:00,  5.03it/s]"
     ]
    },
    {
     "name": "stdout",
     "output_type": "stream",
     "text": [
      "                   all         77         91      0.806       0.68      0.773      0.498\n"
     ]
    },
    {
     "name": "stderr",
     "output_type": "stream",
     "text": [
      "\n"
     ]
    },
    {
     "name": "stdout",
     "output_type": "stream",
     "text": [
      "\n",
      "      Epoch    GPU_mem   box_loss   cls_loss   dfl_loss  Instances       Size\n"
     ]
    },
    {
     "name": "stderr",
     "output_type": "stream",
     "text": [
      "     97/150      22.1G     0.7415     0.8279      1.296         18        640: 100%|██████████| 20/20 [00:04<00:00,  4.74it/s]\n",
      "                 Class     Images  Instances      Box(P          R      mAP50  mAP50-95): 100%|██████████| 3/3 [00:00<00:00,  5.12it/s]"
     ]
    },
    {
     "name": "stdout",
     "output_type": "stream",
     "text": [
      "                   all         77         91      0.725      0.688      0.747      0.476\n"
     ]
    },
    {
     "name": "stderr",
     "output_type": "stream",
     "text": [
      "\n"
     ]
    },
    {
     "name": "stdout",
     "output_type": "stream",
     "text": [
      "\n",
      "      Epoch    GPU_mem   box_loss   cls_loss   dfl_loss  Instances       Size\n"
     ]
    },
    {
     "name": "stderr",
     "output_type": "stream",
     "text": [
      "     98/150      22.1G     0.7557     0.7787      1.282         22        640: 100%|██████████| 20/20 [00:04<00:00,  4.72it/s]\n",
      "                 Class     Images  Instances      Box(P          R      mAP50  mAP50-95): 100%|██████████| 3/3 [00:00<00:00,  5.25it/s]"
     ]
    },
    {
     "name": "stdout",
     "output_type": "stream",
     "text": [
      "                   all         77         91      0.667      0.795       0.75      0.479\n"
     ]
    },
    {
     "name": "stderr",
     "output_type": "stream",
     "text": [
      "\n"
     ]
    },
    {
     "name": "stdout",
     "output_type": "stream",
     "text": [
      "\n",
      "      Epoch    GPU_mem   box_loss   cls_loss   dfl_loss  Instances       Size\n"
     ]
    },
    {
     "name": "stderr",
     "output_type": "stream",
     "text": [
      "     99/150      22.1G     0.7511     0.7633      1.292         24        640: 100%|██████████| 20/20 [00:04<00:00,  4.74it/s]\n",
      "                 Class     Images  Instances      Box(P          R      mAP50  mAP50-95): 100%|██████████| 3/3 [00:00<00:00,  4.97it/s]"
     ]
    },
    {
     "name": "stdout",
     "output_type": "stream",
     "text": [
      "                   all         77         91      0.701        0.7      0.761        0.5\n"
     ]
    },
    {
     "name": "stderr",
     "output_type": "stream",
     "text": [
      "\n"
     ]
    },
    {
     "name": "stdout",
     "output_type": "stream",
     "text": [
      "\n",
      "      Epoch    GPU_mem   box_loss   cls_loss   dfl_loss  Instances       Size\n"
     ]
    },
    {
     "name": "stderr",
     "output_type": "stream",
     "text": [
      "    100/150      22.1G     0.7535      0.802      1.289         13        640: 100%|██████████| 20/20 [00:04<00:00,  4.72it/s]\n",
      "                 Class     Images  Instances      Box(P          R      mAP50  mAP50-95): 100%|██████████| 3/3 [00:00<00:00,  5.17it/s]"
     ]
    },
    {
     "name": "stdout",
     "output_type": "stream",
     "text": [
      "                   all         77         91      0.762      0.706      0.786      0.528\n"
     ]
    },
    {
     "name": "stderr",
     "output_type": "stream",
     "text": [
      "\n"
     ]
    },
    {
     "name": "stdout",
     "output_type": "stream",
     "text": [
      "\n",
      "      Epoch    GPU_mem   box_loss   cls_loss   dfl_loss  Instances       Size\n"
     ]
    },
    {
     "name": "stderr",
     "output_type": "stream",
     "text": [
      "    101/150      22.1G     0.7332      0.779      1.255         21        640: 100%|██████████| 20/20 [00:04<00:00,  4.66it/s]\n",
      "                 Class     Images  Instances      Box(P          R      mAP50  mAP50-95): 100%|██████████| 3/3 [00:00<00:00,  5.06it/s]"
     ]
    },
    {
     "name": "stdout",
     "output_type": "stream",
     "text": [
      "                   all         77         91      0.784      0.745      0.815      0.534\n"
     ]
    },
    {
     "name": "stderr",
     "output_type": "stream",
     "text": [
      "\n"
     ]
    },
    {
     "name": "stdout",
     "output_type": "stream",
     "text": [
      "\n",
      "      Epoch    GPU_mem   box_loss   cls_loss   dfl_loss  Instances       Size\n"
     ]
    },
    {
     "name": "stderr",
     "output_type": "stream",
     "text": [
      "    102/150      22.1G     0.7818     0.8233      1.301         24        640: 100%|██████████| 20/20 [00:04<00:00,  4.71it/s]\n",
      "                 Class     Images  Instances      Box(P          R      mAP50  mAP50-95): 100%|██████████| 3/3 [00:00<00:00,  5.19it/s]"
     ]
    },
    {
     "name": "stdout",
     "output_type": "stream",
     "text": [
      "                   all         77         91      0.775      0.738      0.798      0.527\n"
     ]
    },
    {
     "name": "stderr",
     "output_type": "stream",
     "text": [
      "\n"
     ]
    },
    {
     "name": "stdout",
     "output_type": "stream",
     "text": [
      "\n",
      "      Epoch    GPU_mem   box_loss   cls_loss   dfl_loss  Instances       Size\n"
     ]
    },
    {
     "name": "stderr",
     "output_type": "stream",
     "text": [
      "    103/150      22.1G     0.7448     0.7494      1.272         27        640: 100%|██████████| 20/20 [00:04<00:00,  4.65it/s]\n",
      "                 Class     Images  Instances      Box(P          R      mAP50  mAP50-95): 100%|██████████| 3/3 [00:00<00:00,  5.00it/s]"
     ]
    },
    {
     "name": "stdout",
     "output_type": "stream",
     "text": [
      "                   all         77         91      0.828      0.702      0.797      0.521\n"
     ]
    },
    {
     "name": "stderr",
     "output_type": "stream",
     "text": [
      "\n"
     ]
    },
    {
     "name": "stdout",
     "output_type": "stream",
     "text": [
      "\n",
      "      Epoch    GPU_mem   box_loss   cls_loss   dfl_loss  Instances       Size\n"
     ]
    },
    {
     "name": "stderr",
     "output_type": "stream",
     "text": [
      "    104/150      22.1G     0.7042     0.6921      1.242         25        640: 100%|██████████| 20/20 [00:04<00:00,  4.78it/s]\n",
      "                 Class     Images  Instances      Box(P          R      mAP50  mAP50-95): 100%|██████████| 3/3 [00:00<00:00,  4.99it/s]"
     ]
    },
    {
     "name": "stdout",
     "output_type": "stream",
     "text": [
      "                   all         77         91      0.691      0.743      0.772       0.51\n"
     ]
    },
    {
     "name": "stderr",
     "output_type": "stream",
     "text": [
      "\n"
     ]
    },
    {
     "name": "stdout",
     "output_type": "stream",
     "text": [
      "\n",
      "      Epoch    GPU_mem   box_loss   cls_loss   dfl_loss  Instances       Size\n"
     ]
    },
    {
     "name": "stderr",
     "output_type": "stream",
     "text": [
      "    105/150      22.1G     0.6982     0.7411      1.247         18        640: 100%|██████████| 20/20 [00:04<00:00,  4.67it/s]\n",
      "                 Class     Images  Instances      Box(P          R      mAP50  mAP50-95): 100%|██████████| 3/3 [00:00<00:00,  4.86it/s]"
     ]
    },
    {
     "name": "stdout",
     "output_type": "stream",
     "text": [
      "                   all         77         91      0.713      0.716      0.778      0.511\n"
     ]
    },
    {
     "name": "stderr",
     "output_type": "stream",
     "text": [
      "\n"
     ]
    },
    {
     "name": "stdout",
     "output_type": "stream",
     "text": [
      "\n",
      "      Epoch    GPU_mem   box_loss   cls_loss   dfl_loss  Instances       Size\n"
     ]
    },
    {
     "name": "stderr",
     "output_type": "stream",
     "text": [
      "    106/150      22.1G     0.7406     0.7451      1.261         19        640: 100%|██████████| 20/20 [00:04<00:00,  4.73it/s]\n",
      "                 Class     Images  Instances      Box(P          R      mAP50  mAP50-95): 100%|██████████| 3/3 [00:00<00:00,  5.29it/s]"
     ]
    },
    {
     "name": "stdout",
     "output_type": "stream",
     "text": [
      "                   all         77         91      0.785       0.66      0.764      0.497\n"
     ]
    },
    {
     "name": "stderr",
     "output_type": "stream",
     "text": [
      "\n"
     ]
    },
    {
     "name": "stdout",
     "output_type": "stream",
     "text": [
      "\n",
      "      Epoch    GPU_mem   box_loss   cls_loss   dfl_loss  Instances       Size\n"
     ]
    },
    {
     "name": "stderr",
     "output_type": "stream",
     "text": [
      "    107/150      22.1G     0.7182     0.7129      1.264         19        640: 100%|██████████| 20/20 [00:04<00:00,  4.69it/s]\n",
      "                 Class     Images  Instances      Box(P          R      mAP50  mAP50-95): 100%|██████████| 3/3 [00:00<00:00,  4.84it/s]"
     ]
    },
    {
     "name": "stdout",
     "output_type": "stream",
     "text": [
      "                   all         77         91      0.735      0.728      0.796      0.509\n"
     ]
    },
    {
     "name": "stderr",
     "output_type": "stream",
     "text": [
      "\n"
     ]
    },
    {
     "name": "stdout",
     "output_type": "stream",
     "text": [
      "\n",
      "      Epoch    GPU_mem   box_loss   cls_loss   dfl_loss  Instances       Size\n"
     ]
    },
    {
     "name": "stderr",
     "output_type": "stream",
     "text": [
      "    108/150      22.1G     0.7266     0.7325      1.257         22        640: 100%|██████████| 20/20 [00:04<00:00,  4.73it/s]\n",
      "                 Class     Images  Instances      Box(P          R      mAP50  mAP50-95): 100%|██████████| 3/3 [00:00<00:00,  5.02it/s]"
     ]
    },
    {
     "name": "stdout",
     "output_type": "stream",
     "text": [
      "                   all         77         91      0.762      0.766      0.841      0.542\n"
     ]
    },
    {
     "name": "stderr",
     "output_type": "stream",
     "text": [
      "\n"
     ]
    },
    {
     "name": "stdout",
     "output_type": "stream",
     "text": [
      "\n",
      "      Epoch    GPU_mem   box_loss   cls_loss   dfl_loss  Instances       Size\n"
     ]
    },
    {
     "name": "stderr",
     "output_type": "stream",
     "text": [
      "    109/150      22.1G     0.7286     0.7622      1.282         16        640: 100%|██████████| 20/20 [00:04<00:00,  4.74it/s]\n",
      "                 Class     Images  Instances      Box(P          R      mAP50  mAP50-95): 100%|██████████| 3/3 [00:00<00:00,  5.22it/s]"
     ]
    },
    {
     "name": "stdout",
     "output_type": "stream",
     "text": [
      "                   all         77         91      0.738      0.772      0.813      0.521\n"
     ]
    },
    {
     "name": "stderr",
     "output_type": "stream",
     "text": [
      "\n"
     ]
    },
    {
     "name": "stdout",
     "output_type": "stream",
     "text": [
      "\n",
      "      Epoch    GPU_mem   box_loss   cls_loss   dfl_loss  Instances       Size\n"
     ]
    },
    {
     "name": "stderr",
     "output_type": "stream",
     "text": [
      "    110/150      22.1G     0.6939     0.6518       1.23         16        640: 100%|██████████| 20/20 [00:04<00:00,  4.72it/s]\n",
      "                 Class     Images  Instances      Box(P          R      mAP50  mAP50-95): 100%|██████████| 3/3 [00:00<00:00,  4.83it/s]"
     ]
    },
    {
     "name": "stdout",
     "output_type": "stream",
     "text": [
      "                   all         77         91      0.764      0.737      0.817      0.513\n"
     ]
    },
    {
     "name": "stderr",
     "output_type": "stream",
     "text": [
      "\n"
     ]
    },
    {
     "name": "stdout",
     "output_type": "stream",
     "text": [
      "\n",
      "      Epoch    GPU_mem   box_loss   cls_loss   dfl_loss  Instances       Size\n"
     ]
    },
    {
     "name": "stderr",
     "output_type": "stream",
     "text": [
      "    111/150      22.1G     0.7343     0.7408      1.263         23        640: 100%|██████████| 20/20 [00:04<00:00,  4.77it/s]\n",
      "                 Class     Images  Instances      Box(P          R      mAP50  mAP50-95): 100%|██████████| 3/3 [00:00<00:00,  5.19it/s]"
     ]
    },
    {
     "name": "stdout",
     "output_type": "stream",
     "text": [
      "                   all         77         91      0.783      0.771      0.821      0.507\n"
     ]
    },
    {
     "name": "stderr",
     "output_type": "stream",
     "text": [
      "\n"
     ]
    },
    {
     "name": "stdout",
     "output_type": "stream",
     "text": [
      "\n",
      "      Epoch    GPU_mem   box_loss   cls_loss   dfl_loss  Instances       Size\n"
     ]
    },
    {
     "name": "stderr",
     "output_type": "stream",
     "text": [
      "    112/150      22.1G     0.6482     0.6728      1.219         15        640: 100%|██████████| 20/20 [00:04<00:00,  4.73it/s]\n",
      "                 Class     Images  Instances      Box(P          R      mAP50  mAP50-95): 100%|██████████| 3/3 [00:00<00:00,  5.27it/s]"
     ]
    },
    {
     "name": "stdout",
     "output_type": "stream",
     "text": [
      "                   all         77         91      0.745      0.786      0.803      0.508\n"
     ]
    },
    {
     "name": "stderr",
     "output_type": "stream",
     "text": [
      "\n"
     ]
    },
    {
     "name": "stdout",
     "output_type": "stream",
     "text": [
      "\n",
      "      Epoch    GPU_mem   box_loss   cls_loss   dfl_loss  Instances       Size\n"
     ]
    },
    {
     "name": "stderr",
     "output_type": "stream",
     "text": [
      "    113/150      22.1G     0.6755     0.6927       1.22         21        640: 100%|██████████| 20/20 [00:04<00:00,  4.71it/s]\n",
      "                 Class     Images  Instances      Box(P          R      mAP50  mAP50-95): 100%|██████████| 3/3 [00:00<00:00,  5.17it/s]"
     ]
    },
    {
     "name": "stdout",
     "output_type": "stream",
     "text": [
      "                   all         77         91      0.727      0.799      0.814      0.535\n"
     ]
    },
    {
     "name": "stderr",
     "output_type": "stream",
     "text": [
      "\n"
     ]
    },
    {
     "name": "stdout",
     "output_type": "stream",
     "text": [
      "\n",
      "      Epoch    GPU_mem   box_loss   cls_loss   dfl_loss  Instances       Size\n"
     ]
    },
    {
     "name": "stderr",
     "output_type": "stream",
     "text": [
      "    114/150      22.1G     0.7274     0.7571      1.279         20        640: 100%|██████████| 20/20 [00:04<00:00,  4.71it/s]\n",
      "                 Class     Images  Instances      Box(P          R      mAP50  mAP50-95): 100%|██████████| 3/3 [00:00<00:00,  5.07it/s]"
     ]
    },
    {
     "name": "stdout",
     "output_type": "stream",
     "text": [
      "                   all         77         91       0.75      0.795      0.817      0.545\n"
     ]
    },
    {
     "name": "stderr",
     "output_type": "stream",
     "text": [
      "\n"
     ]
    },
    {
     "name": "stdout",
     "output_type": "stream",
     "text": [
      "\n",
      "      Epoch    GPU_mem   box_loss   cls_loss   dfl_loss  Instances       Size\n"
     ]
    },
    {
     "name": "stderr",
     "output_type": "stream",
     "text": [
      "    115/150      22.1G     0.6871     0.6956      1.229         26        640: 100%|██████████| 20/20 [00:04<00:00,  4.70it/s]\n",
      "                 Class     Images  Instances      Box(P          R      mAP50  mAP50-95): 100%|██████████| 3/3 [00:00<00:00,  5.25it/s]"
     ]
    },
    {
     "name": "stdout",
     "output_type": "stream",
     "text": [
      "                   all         77         91      0.782      0.731        0.8      0.522\n"
     ]
    },
    {
     "name": "stderr",
     "output_type": "stream",
     "text": [
      "\n"
     ]
    },
    {
     "name": "stdout",
     "output_type": "stream",
     "text": [
      "\n",
      "      Epoch    GPU_mem   box_loss   cls_loss   dfl_loss  Instances       Size\n"
     ]
    },
    {
     "name": "stderr",
     "output_type": "stream",
     "text": [
      "    116/150      22.1G     0.6838     0.7128       1.25         17        640: 100%|██████████| 20/20 [00:04<00:00,  4.72it/s]\n",
      "                 Class     Images  Instances      Box(P          R      mAP50  mAP50-95): 100%|██████████| 3/3 [00:00<00:00,  5.11it/s]"
     ]
    },
    {
     "name": "stdout",
     "output_type": "stream",
     "text": [
      "                   all         77         91       0.77      0.754      0.795      0.526\n"
     ]
    },
    {
     "name": "stderr",
     "output_type": "stream",
     "text": [
      "\n"
     ]
    },
    {
     "name": "stdout",
     "output_type": "stream",
     "text": [
      "\n",
      "      Epoch    GPU_mem   box_loss   cls_loss   dfl_loss  Instances       Size\n"
     ]
    },
    {
     "name": "stderr",
     "output_type": "stream",
     "text": [
      "    117/150      22.1G      0.659     0.6804      1.217         13        640: 100%|██████████| 20/20 [00:04<00:00,  4.74it/s]\n",
      "                 Class     Images  Instances      Box(P          R      mAP50  mAP50-95): 100%|██████████| 3/3 [00:00<00:00,  5.02it/s]"
     ]
    },
    {
     "name": "stdout",
     "output_type": "stream",
     "text": [
      "                   all         77         91      0.813      0.716      0.788      0.511\n"
     ]
    },
    {
     "name": "stderr",
     "output_type": "stream",
     "text": [
      "\n"
     ]
    },
    {
     "name": "stdout",
     "output_type": "stream",
     "text": [
      "\n",
      "      Epoch    GPU_mem   box_loss   cls_loss   dfl_loss  Instances       Size\n"
     ]
    },
    {
     "name": "stderr",
     "output_type": "stream",
     "text": [
      "    118/150      22.1G     0.6606      0.675      1.224         21        640: 100%|██████████| 20/20 [00:04<00:00,  4.74it/s]\n",
      "                 Class     Images  Instances      Box(P          R      mAP50  mAP50-95): 100%|██████████| 3/3 [00:00<00:00,  5.21it/s]"
     ]
    },
    {
     "name": "stdout",
     "output_type": "stream",
     "text": [
      "                   all         77         91      0.804      0.709      0.803      0.528\n"
     ]
    },
    {
     "name": "stderr",
     "output_type": "stream",
     "text": [
      "\n"
     ]
    },
    {
     "name": "stdout",
     "output_type": "stream",
     "text": [
      "\n",
      "      Epoch    GPU_mem   box_loss   cls_loss   dfl_loss  Instances       Size\n"
     ]
    },
    {
     "name": "stderr",
     "output_type": "stream",
     "text": [
      "    119/150      22.2G     0.6685     0.6974      1.233         12        640: 100%|██████████| 20/20 [00:04<00:00,  4.74it/s]\n",
      "                 Class     Images  Instances      Box(P          R      mAP50  mAP50-95): 100%|██████████| 3/3 [00:00<00:00,  5.32it/s]"
     ]
    },
    {
     "name": "stdout",
     "output_type": "stream",
     "text": [
      "                   all         77         91       0.79      0.709      0.801      0.523\n"
     ]
    },
    {
     "name": "stderr",
     "output_type": "stream",
     "text": [
      "\n"
     ]
    },
    {
     "name": "stdout",
     "output_type": "stream",
     "text": [
      "\n",
      "      Epoch    GPU_mem   box_loss   cls_loss   dfl_loss  Instances       Size\n"
     ]
    },
    {
     "name": "stderr",
     "output_type": "stream",
     "text": [
      "    120/150      22.1G     0.6657     0.7089      1.221         14        640: 100%|██████████| 20/20 [00:04<00:00,  4.69it/s]\n",
      "                 Class     Images  Instances      Box(P          R      mAP50  mAP50-95): 100%|██████████| 3/3 [00:00<00:00,  5.30it/s]"
     ]
    },
    {
     "name": "stdout",
     "output_type": "stream",
     "text": [
      "                   all         77         91      0.731      0.744       0.79      0.516\n"
     ]
    },
    {
     "name": "stderr",
     "output_type": "stream",
     "text": [
      "\n"
     ]
    },
    {
     "name": "stdout",
     "output_type": "stream",
     "text": [
      "\n",
      "      Epoch    GPU_mem   box_loss   cls_loss   dfl_loss  Instances       Size\n"
     ]
    },
    {
     "name": "stderr",
     "output_type": "stream",
     "text": [
      "    121/150      22.2G     0.6743     0.6557      1.229         25        640: 100%|██████████| 20/20 [00:04<00:00,  4.74it/s]\n",
      "                 Class     Images  Instances      Box(P          R      mAP50  mAP50-95): 100%|██████████| 3/3 [00:00<00:00,  5.13it/s]"
     ]
    },
    {
     "name": "stdout",
     "output_type": "stream",
     "text": [
      "                   all         77         91       0.74      0.755      0.791      0.512\n"
     ]
    },
    {
     "name": "stderr",
     "output_type": "stream",
     "text": [
      "\n"
     ]
    },
    {
     "name": "stdout",
     "output_type": "stream",
     "text": [
      "\n",
      "      Epoch    GPU_mem   box_loss   cls_loss   dfl_loss  Instances       Size\n"
     ]
    },
    {
     "name": "stderr",
     "output_type": "stream",
     "text": [
      "    122/150      22.1G     0.6906     0.6936      1.254         16        640: 100%|██████████| 20/20 [00:04<00:00,  4.74it/s]\n",
      "                 Class     Images  Instances      Box(P          R      mAP50  mAP50-95): 100%|██████████| 3/3 [00:00<00:00,  5.15it/s]"
     ]
    },
    {
     "name": "stdout",
     "output_type": "stream",
     "text": [
      "                   all         77         91      0.789      0.648      0.795      0.528\n"
     ]
    },
    {
     "name": "stderr",
     "output_type": "stream",
     "text": [
      "\n"
     ]
    },
    {
     "name": "stdout",
     "output_type": "stream",
     "text": [
      "\n",
      "      Epoch    GPU_mem   box_loss   cls_loss   dfl_loss  Instances       Size\n"
     ]
    },
    {
     "name": "stderr",
     "output_type": "stream",
     "text": [
      "    123/150      22.1G     0.6509     0.6382        1.2         27        640: 100%|██████████| 20/20 [00:04<00:00,  4.72it/s]\n",
      "                 Class     Images  Instances      Box(P          R      mAP50  mAP50-95): 100%|██████████| 3/3 [00:00<00:00,  5.30it/s]"
     ]
    },
    {
     "name": "stdout",
     "output_type": "stream",
     "text": [
      "                   all         77         91      0.857      0.648      0.802      0.529\n"
     ]
    },
    {
     "name": "stderr",
     "output_type": "stream",
     "text": [
      "\n"
     ]
    },
    {
     "name": "stdout",
     "output_type": "stream",
     "text": [
      "\n",
      "      Epoch    GPU_mem   box_loss   cls_loss   dfl_loss  Instances       Size\n"
     ]
    },
    {
     "name": "stderr",
     "output_type": "stream",
     "text": [
      "    124/150      22.1G     0.6489     0.6705       1.22         24        640: 100%|██████████| 20/20 [00:04<00:00,  4.77it/s]\n",
      "                 Class     Images  Instances      Box(P          R      mAP50  mAP50-95): 100%|██████████| 3/3 [00:00<00:00,  5.22it/s]"
     ]
    },
    {
     "name": "stdout",
     "output_type": "stream",
     "text": [
      "                   all         77         91      0.765      0.727      0.808      0.528\n"
     ]
    },
    {
     "name": "stderr",
     "output_type": "stream",
     "text": [
      "\n"
     ]
    },
    {
     "name": "stdout",
     "output_type": "stream",
     "text": [
      "\n",
      "      Epoch    GPU_mem   box_loss   cls_loss   dfl_loss  Instances       Size\n"
     ]
    },
    {
     "name": "stderr",
     "output_type": "stream",
     "text": [
      "    125/150      22.1G     0.6931     0.7332      1.242         26        640: 100%|██████████| 20/20 [00:04<00:00,  4.73it/s]\n",
      "                 Class     Images  Instances      Box(P          R      mAP50  mAP50-95): 100%|██████████| 3/3 [00:00<00:00,  4.89it/s]"
     ]
    },
    {
     "name": "stdout",
     "output_type": "stream",
     "text": [
      "                   all         77         91      0.801      0.731      0.802      0.538\n"
     ]
    },
    {
     "name": "stderr",
     "output_type": "stream",
     "text": [
      "\n"
     ]
    },
    {
     "name": "stdout",
     "output_type": "stream",
     "text": [
      "\n",
      "      Epoch    GPU_mem   box_loss   cls_loss   dfl_loss  Instances       Size\n"
     ]
    },
    {
     "name": "stderr",
     "output_type": "stream",
     "text": [
      "    126/150      22.1G     0.6353     0.6554      1.199         18        640: 100%|██████████| 20/20 [00:04<00:00,  4.68it/s]\n",
      "                 Class     Images  Instances      Box(P          R      mAP50  mAP50-95): 100%|██████████| 3/3 [00:00<00:00,  5.11it/s]"
     ]
    },
    {
     "name": "stdout",
     "output_type": "stream",
     "text": [
      "                   all         77         91      0.826      0.734      0.804      0.531\n"
     ]
    },
    {
     "name": "stderr",
     "output_type": "stream",
     "text": [
      "\n"
     ]
    },
    {
     "name": "stdout",
     "output_type": "stream",
     "text": [
      "\n",
      "      Epoch    GPU_mem   box_loss   cls_loss   dfl_loss  Instances       Size\n"
     ]
    },
    {
     "name": "stderr",
     "output_type": "stream",
     "text": [
      "    127/150      22.1G     0.6369     0.6626      1.213         30        640: 100%|██████████| 20/20 [00:04<00:00,  4.67it/s]\n",
      "                 Class     Images  Instances      Box(P          R      mAP50  mAP50-95): 100%|██████████| 3/3 [00:00<00:00,  5.29it/s]"
     ]
    },
    {
     "name": "stdout",
     "output_type": "stream",
     "text": [
      "                   all         77         91      0.785      0.691      0.796      0.525\n"
     ]
    },
    {
     "name": "stderr",
     "output_type": "stream",
     "text": [
      "\n"
     ]
    },
    {
     "name": "stdout",
     "output_type": "stream",
     "text": [
      "\n",
      "      Epoch    GPU_mem   box_loss   cls_loss   dfl_loss  Instances       Size\n"
     ]
    },
    {
     "name": "stderr",
     "output_type": "stream",
     "text": [
      "    128/150      22.1G     0.6246     0.6223       1.18         15        640: 100%|██████████| 20/20 [00:04<00:00,  4.75it/s]\n",
      "                 Class     Images  Instances      Box(P          R      mAP50  mAP50-95): 100%|██████████| 3/3 [00:00<00:00,  5.11it/s]"
     ]
    },
    {
     "name": "stdout",
     "output_type": "stream",
     "text": [
      "                   all         77         91      0.801      0.716        0.8      0.527\n"
     ]
    },
    {
     "name": "stderr",
     "output_type": "stream",
     "text": [
      "\n"
     ]
    },
    {
     "name": "stdout",
     "output_type": "stream",
     "text": [
      "\n",
      "      Epoch    GPU_mem   box_loss   cls_loss   dfl_loss  Instances       Size\n"
     ]
    },
    {
     "name": "stderr",
     "output_type": "stream",
     "text": [
      "    129/150      22.1G     0.6307     0.6133      1.193         27        640: 100%|██████████| 20/20 [00:04<00:00,  4.75it/s]\n",
      "                 Class     Images  Instances      Box(P          R      mAP50  mAP50-95): 100%|██████████| 3/3 [00:00<00:00,  5.30it/s]"
     ]
    },
    {
     "name": "stdout",
     "output_type": "stream",
     "text": [
      "                   all         77         91      0.806      0.759      0.813       0.54\n"
     ]
    },
    {
     "name": "stderr",
     "output_type": "stream",
     "text": [
      "\n"
     ]
    },
    {
     "name": "stdout",
     "output_type": "stream",
     "text": [
      "\n",
      "      Epoch    GPU_mem   box_loss   cls_loss   dfl_loss  Instances       Size\n"
     ]
    },
    {
     "name": "stderr",
     "output_type": "stream",
     "text": [
      "    130/150      22.1G     0.6325     0.6273      1.193         14        640: 100%|██████████| 20/20 [00:04<00:00,  4.75it/s]\n",
      "                 Class     Images  Instances      Box(P          R      mAP50  mAP50-95): 100%|██████████| 3/3 [00:00<00:00,  4.71it/s]"
     ]
    },
    {
     "name": "stdout",
     "output_type": "stream",
     "text": [
      "                   all         77         91      0.802      0.773      0.812      0.532\n"
     ]
    },
    {
     "name": "stderr",
     "output_type": "stream",
     "text": [
      "\n"
     ]
    },
    {
     "name": "stdout",
     "output_type": "stream",
     "text": [
      "\n",
      "      Epoch    GPU_mem   box_loss   cls_loss   dfl_loss  Instances       Size\n"
     ]
    },
    {
     "name": "stderr",
     "output_type": "stream",
     "text": [
      "    131/150      22.1G     0.5946     0.5623      1.167         23        640: 100%|██████████| 20/20 [00:04<00:00,  4.79it/s]\n",
      "                 Class     Images  Instances      Box(P          R      mAP50  mAP50-95): 100%|██████████| 3/3 [00:00<00:00,  5.23it/s]"
     ]
    },
    {
     "name": "stdout",
     "output_type": "stream",
     "text": [
      "                   all         77         91      0.808      0.737      0.812      0.523\n"
     ]
    },
    {
     "name": "stderr",
     "output_type": "stream",
     "text": [
      "\n"
     ]
    },
    {
     "name": "stdout",
     "output_type": "stream",
     "text": [
      "\n",
      "      Epoch    GPU_mem   box_loss   cls_loss   dfl_loss  Instances       Size\n"
     ]
    },
    {
     "name": "stderr",
     "output_type": "stream",
     "text": [
      "    132/150      22.1G     0.6163     0.6147      1.174         12        640: 100%|██████████| 20/20 [00:04<00:00,  4.68it/s]\n",
      "                 Class     Images  Instances      Box(P          R      mAP50  mAP50-95): 100%|██████████| 3/3 [00:00<00:00,  5.04it/s]"
     ]
    },
    {
     "name": "stdout",
     "output_type": "stream",
     "text": [
      "                   all         77         91       0.77      0.751      0.786      0.516\n"
     ]
    },
    {
     "name": "stderr",
     "output_type": "stream",
     "text": [
      "\n"
     ]
    },
    {
     "name": "stdout",
     "output_type": "stream",
     "text": [
      "\n",
      "      Epoch    GPU_mem   box_loss   cls_loss   dfl_loss  Instances       Size\n"
     ]
    },
    {
     "name": "stderr",
     "output_type": "stream",
     "text": [
      "    133/150      22.1G     0.6257     0.6029      1.204         14        640: 100%|██████████| 20/20 [00:04<00:00,  4.77it/s]\n",
      "                 Class     Images  Instances      Box(P          R      mAP50  mAP50-95): 100%|██████████| 3/3 [00:00<00:00,  5.30it/s]"
     ]
    },
    {
     "name": "stdout",
     "output_type": "stream",
     "text": [
      "                   all         77         91      0.755      0.732      0.781      0.513\n"
     ]
    },
    {
     "name": "stderr",
     "output_type": "stream",
     "text": [
      "\n"
     ]
    },
    {
     "name": "stdout",
     "output_type": "stream",
     "text": [
      "\n",
      "      Epoch    GPU_mem   box_loss   cls_loss   dfl_loss  Instances       Size\n"
     ]
    },
    {
     "name": "stderr",
     "output_type": "stream",
     "text": [
      "    134/150      22.1G     0.6037     0.6047      1.164         17        640: 100%|██████████| 20/20 [00:04<00:00,  4.76it/s]\n",
      "                 Class     Images  Instances      Box(P          R      mAP50  mAP50-95): 100%|██████████| 3/3 [00:00<00:00,  4.92it/s]"
     ]
    },
    {
     "name": "stdout",
     "output_type": "stream",
     "text": [
      "                   all         77         91      0.788      0.715      0.785      0.513\n"
     ]
    },
    {
     "name": "stderr",
     "output_type": "stream",
     "text": [
      "\n"
     ]
    },
    {
     "name": "stdout",
     "output_type": "stream",
     "text": [
      "\n",
      "      Epoch    GPU_mem   box_loss   cls_loss   dfl_loss  Instances       Size\n"
     ]
    },
    {
     "name": "stderr",
     "output_type": "stream",
     "text": [
      "    135/150      22.1G     0.5876     0.6004       1.17         20        640: 100%|██████████| 20/20 [00:04<00:00,  4.72it/s]\n",
      "                 Class     Images  Instances      Box(P          R      mAP50  mAP50-95): 100%|██████████| 3/3 [00:00<00:00,  5.23it/s]"
     ]
    },
    {
     "name": "stdout",
     "output_type": "stream",
     "text": [
      "                   all         77         91      0.751      0.747      0.787      0.513\n"
     ]
    },
    {
     "name": "stderr",
     "output_type": "stream",
     "text": [
      "\n"
     ]
    },
    {
     "name": "stdout",
     "output_type": "stream",
     "text": [
      "\n",
      "      Epoch    GPU_mem   box_loss   cls_loss   dfl_loss  Instances       Size\n"
     ]
    },
    {
     "name": "stderr",
     "output_type": "stream",
     "text": [
      "    136/150      22.1G     0.6289        0.7      1.198         22        640: 100%|██████████| 20/20 [00:04<00:00,  4.72it/s]\n",
      "                 Class     Images  Instances      Box(P          R      mAP50  mAP50-95): 100%|██████████| 3/3 [00:00<00:00,  4.87it/s]"
     ]
    },
    {
     "name": "stdout",
     "output_type": "stream",
     "text": [
      "                   all         77         91      0.851      0.732        0.8      0.509\n"
     ]
    },
    {
     "name": "stderr",
     "output_type": "stream",
     "text": [
      "\n"
     ]
    },
    {
     "name": "stdout",
     "output_type": "stream",
     "text": [
      "\n",
      "      Epoch    GPU_mem   box_loss   cls_loss   dfl_loss  Instances       Size\n"
     ]
    },
    {
     "name": "stderr",
     "output_type": "stream",
     "text": [
      "    137/150      22.1G     0.6229     0.6952      1.193         21        640: 100%|██████████| 20/20 [00:04<00:00,  4.72it/s]\n",
      "                 Class     Images  Instances      Box(P          R      mAP50  mAP50-95): 100%|██████████| 3/3 [00:00<00:00,  5.27it/s]"
     ]
    },
    {
     "name": "stdout",
     "output_type": "stream",
     "text": [
      "                   all         77         91      0.861      0.728      0.808      0.521\n"
     ]
    },
    {
     "name": "stderr",
     "output_type": "stream",
     "text": [
      "\n"
     ]
    },
    {
     "name": "stdout",
     "output_type": "stream",
     "text": [
      "\n",
      "      Epoch    GPU_mem   box_loss   cls_loss   dfl_loss  Instances       Size\n"
     ]
    },
    {
     "name": "stderr",
     "output_type": "stream",
     "text": [
      "    138/150      22.1G     0.6184     0.6251      1.184         18        640: 100%|██████████| 20/20 [00:04<00:00,  4.72it/s]\n",
      "                 Class     Images  Instances      Box(P          R      mAP50  mAP50-95): 100%|██████████| 3/3 [00:00<00:00,  4.82it/s]"
     ]
    },
    {
     "name": "stdout",
     "output_type": "stream",
     "text": [
      "                   all         77         91       0.87      0.701      0.815      0.519\n"
     ]
    },
    {
     "name": "stderr",
     "output_type": "stream",
     "text": [
      "\n"
     ]
    },
    {
     "name": "stdout",
     "output_type": "stream",
     "text": [
      "\n",
      "      Epoch    GPU_mem   box_loss   cls_loss   dfl_loss  Instances       Size\n"
     ]
    },
    {
     "name": "stderr",
     "output_type": "stream",
     "text": [
      "    139/150      22.1G     0.5896     0.5831      1.175         23        640: 100%|██████████| 20/20 [00:04<00:00,  4.71it/s]\n",
      "                 Class     Images  Instances      Box(P          R      mAP50  mAP50-95): 100%|██████████| 3/3 [00:00<00:00,  5.15it/s]"
     ]
    },
    {
     "name": "stdout",
     "output_type": "stream",
     "text": [
      "                   all         77         91      0.852      0.728      0.815      0.517\n"
     ]
    },
    {
     "name": "stderr",
     "output_type": "stream",
     "text": [
      "\n"
     ]
    },
    {
     "name": "stdout",
     "output_type": "stream",
     "text": [
      "\n",
      "      Epoch    GPU_mem   box_loss   cls_loss   dfl_loss  Instances       Size\n"
     ]
    },
    {
     "name": "stderr",
     "output_type": "stream",
     "text": [
      "    140/150      22.1G     0.5858     0.5909       1.18         24        640: 100%|██████████| 20/20 [00:04<00:00,  4.74it/s]\n",
      "                 Class     Images  Instances      Box(P          R      mAP50  mAP50-95): 100%|██████████| 3/3 [00:00<00:00,  5.05it/s]"
     ]
    },
    {
     "name": "stdout",
     "output_type": "stream",
     "text": [
      "                   all         77         91      0.766      0.763      0.823      0.528\n"
     ]
    },
    {
     "name": "stderr",
     "output_type": "stream",
     "text": [
      "\n"
     ]
    },
    {
     "name": "stdout",
     "output_type": "stream",
     "text": [
      "Closing dataloader mosaic\n",
      "\u001b[34m\u001b[1malbumentations: \u001b[0mBlur(p=0.01, blur_limit=(3, 7)), MedianBlur(p=0.01, blur_limit=(3, 7)), ToGray(p=0.01, method='weighted_average', num_output_channels=3), CLAHE(p=0.01, clip_limit=(1.0, 4.0), tile_grid_size=(8, 8))\n",
      "\n",
      "      Epoch    GPU_mem   box_loss   cls_loss   dfl_loss  Instances       Size\n"
     ]
    },
    {
     "name": "stderr",
     "output_type": "stream",
     "text": [
      "    141/150      22.1G      0.381     0.4225       1.06          7        640: 100%|██████████| 20/20 [00:04<00:00,  4.27it/s]\n",
      "                 Class     Images  Instances      Box(P          R      mAP50  mAP50-95): 100%|██████████| 3/3 [00:00<00:00,  5.30it/s]"
     ]
    },
    {
     "name": "stdout",
     "output_type": "stream",
     "text": [
      "                   all         77         91      0.833      0.714      0.797      0.525\n"
     ]
    },
    {
     "name": "stderr",
     "output_type": "stream",
     "text": [
      "\n"
     ]
    },
    {
     "name": "stdout",
     "output_type": "stream",
     "text": [
      "\n",
      "      Epoch    GPU_mem   box_loss   cls_loss   dfl_loss  Instances       Size\n"
     ]
    },
    {
     "name": "stderr",
     "output_type": "stream",
     "text": [
      "    142/150      22.1G     0.3525     0.3846      1.032          6        640: 100%|██████████| 20/20 [00:04<00:00,  4.80it/s]\n",
      "                 Class     Images  Instances      Box(P          R      mAP50  mAP50-95): 100%|██████████| 3/3 [00:00<00:00,  5.00it/s]"
     ]
    },
    {
     "name": "stdout",
     "output_type": "stream",
     "text": [
      "                   all         77         91      0.794      0.698      0.776      0.516\n"
     ]
    },
    {
     "name": "stderr",
     "output_type": "stream",
     "text": [
      "\n"
     ]
    },
    {
     "name": "stdout",
     "output_type": "stream",
     "text": [
      "\n",
      "      Epoch    GPU_mem   box_loss   cls_loss   dfl_loss  Instances       Size\n"
     ]
    },
    {
     "name": "stderr",
     "output_type": "stream",
     "text": [
      "    143/150      22.1G     0.3576     0.3117      1.021          9        640: 100%|██████████| 20/20 [00:04<00:00,  4.76it/s]\n",
      "                 Class     Images  Instances      Box(P          R      mAP50  mAP50-95): 100%|██████████| 3/3 [00:00<00:00,  5.13it/s]"
     ]
    },
    {
     "name": "stdout",
     "output_type": "stream",
     "text": [
      "                   all         77         91      0.771      0.735      0.781      0.506\n"
     ]
    },
    {
     "name": "stderr",
     "output_type": "stream",
     "text": [
      "\n"
     ]
    },
    {
     "name": "stdout",
     "output_type": "stream",
     "text": [
      "\n",
      "      Epoch    GPU_mem   box_loss   cls_loss   dfl_loss  Instances       Size\n"
     ]
    },
    {
     "name": "stderr",
     "output_type": "stream",
     "text": [
      "    144/150      22.1G      0.334     0.2973      1.003          6        640: 100%|██████████| 20/20 [00:04<00:00,  4.80it/s]\n",
      "                 Class     Images  Instances      Box(P          R      mAP50  mAP50-95): 100%|██████████| 3/3 [00:00<00:00,  5.29it/s]"
     ]
    },
    {
     "name": "stdout",
     "output_type": "stream",
     "text": [
      "                   all         77         91       0.77      0.747      0.784      0.507\n"
     ]
    },
    {
     "name": "stderr",
     "output_type": "stream",
     "text": [
      "\n"
     ]
    },
    {
     "name": "stdout",
     "output_type": "stream",
     "text": [
      "\n",
      "      Epoch    GPU_mem   box_loss   cls_loss   dfl_loss  Instances       Size\n"
     ]
    },
    {
     "name": "stderr",
     "output_type": "stream",
     "text": [
      "    145/150      22.1G     0.3254     0.3027      1.018          7        640: 100%|██████████| 20/20 [00:04<00:00,  4.78it/s]\n",
      "                 Class     Images  Instances      Box(P          R      mAP50  mAP50-95): 100%|██████████| 3/3 [00:00<00:00,  4.90it/s]"
     ]
    },
    {
     "name": "stdout",
     "output_type": "stream",
     "text": [
      "                   all         77         91       0.81      0.737      0.786      0.516\n"
     ]
    },
    {
     "name": "stderr",
     "output_type": "stream",
     "text": [
      "\n"
     ]
    },
    {
     "name": "stdout",
     "output_type": "stream",
     "text": [
      "\n",
      "      Epoch    GPU_mem   box_loss   cls_loss   dfl_loss  Instances       Size\n"
     ]
    },
    {
     "name": "stderr",
     "output_type": "stream",
     "text": [
      "    146/150      22.1G     0.3305     0.2939      1.005          7        640: 100%|██████████| 20/20 [00:04<00:00,  4.76it/s]\n",
      "                 Class     Images  Instances      Box(P          R      mAP50  mAP50-95): 100%|██████████| 3/3 [00:00<00:00,  5.00it/s]"
     ]
    },
    {
     "name": "stdout",
     "output_type": "stream",
     "text": [
      "                   all         77         91      0.815      0.741      0.792      0.519\n"
     ]
    },
    {
     "name": "stderr",
     "output_type": "stream",
     "text": [
      "\n"
     ]
    },
    {
     "name": "stdout",
     "output_type": "stream",
     "text": [
      "\n",
      "      Epoch    GPU_mem   box_loss   cls_loss   dfl_loss  Instances       Size\n"
     ]
    },
    {
     "name": "stderr",
     "output_type": "stream",
     "text": [
      "    147/150      22.1G     0.3302     0.2937          1         11        640: 100%|██████████| 20/20 [00:04<00:00,  4.78it/s]\n",
      "                 Class     Images  Instances      Box(P          R      mAP50  mAP50-95): 100%|██████████| 3/3 [00:00<00:00,  5.22it/s]"
     ]
    },
    {
     "name": "stdout",
     "output_type": "stream",
     "text": [
      "                   all         77         91      0.772      0.749       0.79      0.516\n"
     ]
    },
    {
     "name": "stderr",
     "output_type": "stream",
     "text": [
      "\n"
     ]
    },
    {
     "name": "stdout",
     "output_type": "stream",
     "text": [
      "\n",
      "      Epoch    GPU_mem   box_loss   cls_loss   dfl_loss  Instances       Size\n"
     ]
    },
    {
     "name": "stderr",
     "output_type": "stream",
     "text": [
      "    148/150      22.1G     0.3324     0.3051     0.9955          7        640: 100%|██████████| 20/20 [00:04<00:00,  4.77it/s]\n",
      "                 Class     Images  Instances      Box(P          R      mAP50  mAP50-95): 100%|██████████| 3/3 [00:00<00:00,  5.19it/s]"
     ]
    },
    {
     "name": "stdout",
     "output_type": "stream",
     "text": [
      "                   all         77         91      0.785      0.763      0.794      0.519\n"
     ]
    },
    {
     "name": "stderr",
     "output_type": "stream",
     "text": [
      "\n"
     ]
    },
    {
     "name": "stdout",
     "output_type": "stream",
     "text": [
      "\n",
      "      Epoch    GPU_mem   box_loss   cls_loss   dfl_loss  Instances       Size\n"
     ]
    },
    {
     "name": "stderr",
     "output_type": "stream",
     "text": [
      "    149/150      22.1G     0.3152     0.2763     0.9851          6        640: 100%|██████████| 20/20 [00:04<00:00,  4.77it/s]\n",
      "                 Class     Images  Instances      Box(P          R      mAP50  mAP50-95): 100%|██████████| 3/3 [00:00<00:00,  5.18it/s]"
     ]
    },
    {
     "name": "stdout",
     "output_type": "stream",
     "text": [
      "                   all         77         91      0.804      0.758      0.799      0.533\n"
     ]
    },
    {
     "name": "stderr",
     "output_type": "stream",
     "text": [
      "\n"
     ]
    },
    {
     "name": "stdout",
     "output_type": "stream",
     "text": [
      "\n",
      "      Epoch    GPU_mem   box_loss   cls_loss   dfl_loss  Instances       Size\n"
     ]
    },
    {
     "name": "stderr",
     "output_type": "stream",
     "text": [
      "    150/150      22.1G     0.3268     0.2876       1.01          7        640: 100%|██████████| 20/20 [00:04<00:00,  4.77it/s]\n",
      "                 Class     Images  Instances      Box(P          R      mAP50  mAP50-95): 100%|██████████| 3/3 [00:00<00:00,  5.30it/s]"
     ]
    },
    {
     "name": "stdout",
     "output_type": "stream",
     "text": [
      "                   all         77         91      0.802      0.753      0.796       0.53\n"
     ]
    },
    {
     "name": "stderr",
     "output_type": "stream",
     "text": [
      "\n"
     ]
    },
    {
     "name": "stdout",
     "output_type": "stream",
     "text": [
      "\n",
      "150 epochs completed in 0.272 hours.\n",
      "Optimizer stripped from runs/detect/train5/weights/last.pt, 136.8MB\n",
      "Optimizer stripped from runs/detect/train5/weights/best.pt, 136.8MB\n",
      "\n",
      "Validating runs/detect/train5/weights/best.pt...\n",
      "Ultralytics 8.3.158 🚀 Python-3.11.13 torch-2.6.0+cu124 CUDA:0 (NVIDIA A100-SXM4-40GB, 40507MiB)\n",
      "Model summary (fused): 112 layers, 68,143,791 parameters, 0 gradients, 257.5 GFLOPs\n"
     ]
    },
    {
     "name": "stderr",
     "output_type": "stream",
     "text": [
      "                 Class     Images  Instances      Box(P          R      mAP50  mAP50-95): 100%|██████████| 3/3 [00:01<00:00,  1.85it/s]\n"
     ]
    },
    {
     "name": "stdout",
     "output_type": "stream",
     "text": [
      "                   all         77         91      0.844      0.808      0.869      0.558\n",
      "            Ayam Bakar          5          6          1      0.815      0.877      0.552\n",
      "           Ayam Goreng          5          6      0.692      0.333      0.403       0.21\n",
      "                 Bakso          3          6      0.746      0.167      0.403      0.229\n",
      "                Capcay          4          4          1      0.719      0.995      0.745\n",
      "                 Donat          3          6          1       0.49      0.846      0.531\n",
      "            Ikan Bakar          2          3      0.944          1      0.995      0.731\n",
      "           Ikan Goreng          5          5      0.907          1      0.995      0.655\n",
      "        Kentang Goreng          1          1      0.815          1      0.995      0.796\n",
      "         Kentang Rebus          3          6      0.618      0.333      0.395      0.299\n",
      "            Nasi Putih          4          4      0.891       0.75      0.753      0.385\n",
      "                Puding          4          5      0.923          1      0.995      0.602\n",
      "               Rendang          5          5      0.822          1      0.995      0.803\n",
      "                  Sate          5          5      0.778          1      0.995      0.566\n",
      "             Sayur Sop          6          6      0.597          1      0.972      0.754\n",
      "           Tahu Goreng          4          4          1      0.958      0.995      0.696\n",
      "          Telur Ceplok          6          6      0.813          1      0.995      0.541\n",
      "           Telur Dadar          2          2          1       0.73      0.995      0.456\n",
      "           Telur Rebus          4          4      0.629      0.857      0.787      0.257\n",
      "          Tempe Goreng          4          4      0.756          1      0.995      0.677\n",
      "        Tumis kangkung          3          3      0.946          1      0.995      0.671\n",
      "Speed: 0.1ms preprocess, 12.0ms inference, 0.0ms loss, 3.2ms postprocess per image\n",
      "Results saved to \u001b[1mruns/detect/train5\u001b[0m\n",
      "Model berhasil disimpan di: /content/drive/MyDrive/SabilaAstari/Model_new/best.pt\n",
      "Ultralytics 8.3.158 🚀 Python-3.11.13 torch-2.6.0+cu124 CUDA:0 (NVIDIA A100-SXM4-40GB, 40507MiB)\n",
      "Model summary (fused): 112 layers, 68,143,791 parameters, 0 gradients, 257.5 GFLOPs\n",
      "\u001b[34m\u001b[1mval: \u001b[0mFast image access ✅ (ping: 0.0±0.0 ms, read: 1450.5±436.1 MB/s, size: 45.6 KB)\n"
     ]
    },
    {
     "name": "stderr",
     "output_type": "stream",
     "text": [
      "\u001b[34m\u001b[1mval: \u001b[0mScanning /content/Indonesia-Food-1/valid/labels.cache... 77 images, 0 backgrounds, 0 corrupt: 100%|██████████| 77/77 [00:00<?, ?it/s]"
     ]
    },
    {
     "name": "stdout",
     "output_type": "stream",
     "text": [
      "WARNING ⚠️ Box and segment counts should be equal, but got len(segments) = 4, len(boxes) = 91. To resolve this only boxes will be used and all segments will be removed. To avoid this please supply either a detect or segment dataset, not a detect-segment mixed dataset.\n"
     ]
    },
    {
     "name": "stderr",
     "output_type": "stream",
     "text": [
      "\n",
      "                 Class     Images  Instances      Box(P          R      mAP50  mAP50-95): 100%|██████████| 5/5 [00:02<00:00,  1.95it/s]\n"
     ]
    },
    {
     "name": "stdout",
     "output_type": "stream",
     "text": [
      "                   all         77         91      0.794      0.823      0.857      0.557\n",
      "            Ayam Bakar          5          6      0.693      0.833      0.879      0.554\n",
      "           Ayam Goreng          5          6      0.613      0.333      0.403       0.21\n",
      "                 Bakso          3          6       0.55      0.217      0.403      0.229\n",
      "                Capcay          4          4          1      0.844      0.995      0.745\n",
      "                 Donat          3          6          1      0.626      0.846      0.531\n",
      "            Ikan Bakar          2          3      0.914          1      0.995      0.731\n",
      "           Ikan Goreng          5          5      0.862          1      0.995      0.655\n",
      "        Kentang Goreng          1          1      0.768          1      0.995      0.796\n",
      "         Kentang Rebus          3          6      0.601      0.333      0.395      0.299\n",
      "            Nasi Putih          4          4      0.866       0.75      0.753      0.385\n",
      "                Puding          4          5      0.905          1      0.995      0.602\n",
      "               Rendang          5          5      0.806          1      0.995      0.803\n",
      "                  Sate          5          5      0.752          1      0.995      0.566\n",
      "             Sayur Sop          6          6      0.586          1      0.972      0.754\n",
      "           Tahu Goreng          4          4      0.998          1      0.995      0.696\n",
      "          Telur Ceplok          6          6      0.668      0.833      0.759      0.517\n",
      "           Telur Dadar          2          2          1      0.778      0.995      0.456\n",
      "           Telur Rebus          4          4      0.644      0.914      0.787      0.257\n",
      "          Tempe Goreng          4          4      0.737          1      0.995      0.677\n",
      "        Tumis kangkung          3          3      0.917          1      0.995      0.671\n",
      "Speed: 2.6ms preprocess, 21.2ms inference, 0.0ms loss, 0.9ms postprocess per image\n",
      "Results saved to \u001b[1mruns/detect/train52\u001b[0m\n",
      "\n",
      "image 1/129 /content/Indonesia-Food-1/test/images/OIP-10-_jpg.rf.a09b3040375c937a6418876797f96977.jpg: 640x640 3 Ikan Bakars, 131.5ms\n",
      "image 2/129 /content/Indonesia-Food-1/test/images/OIP-13-_jpg.rf.5f6e061a256b10da4192f68de799c377.jpg: 640x640 2 Ikan Bakars, 1 Puding, 41.2ms\n",
      "image 3/129 /content/Indonesia-Food-1/test/images/OIP-17-_jpg.rf.4ad1e86f9d61c9ae925c1cc89f3dccda.jpg: 640x640 1 Ikan Bakar, 38.4ms\n",
      "image 4/129 /content/Indonesia-Food-1/test/images/OIP-5-_jpg.rf.75167cc63c2b9add5f2d7a04e0f5d198.jpg: 640x640 1 Ikan Bakar, 39.0ms\n",
      "image 5/129 /content/Indonesia-Food-1/test/images/R-1-_jpg.rf.77198defeffc13f5a9a5da579bb84160.jpg: 640x640 1 Ikan Bakar, 2 Tempe Gorengs, 39.7ms\n",
      "image 6/129 /content/Indonesia-Food-1/test/images/ayam-bakar_001_jpeg.rf.9d650049f000786b2dec31482faccce5.jpg: 640x640 1 Ayam Bakar, 39.8ms\n",
      "image 7/129 /content/Indonesia-Food-1/test/images/ayam-bakar_002_jpeg.rf.4bad6e27523080281b26a068e6f3fcda.jpg: 640x640 2 Ayam Gorengs, 40.2ms\n",
      "image 8/129 /content/Indonesia-Food-1/test/images/ayam-bakar_006_jpeg.rf.620ff144999cd2d549c35900763b8efb.jpg: 640x640 1 Ayam Bakar, 59.1ms\n",
      "image 9/129 /content/Indonesia-Food-1/test/images/ayam-bakar_010_jpeg.rf.3751fa06d0928842214203498b1b9306.jpg: 640x640 1 Ayam Goreng, 1 Ikan Goreng, 38.4ms\n",
      "image 10/129 /content/Indonesia-Food-1/test/images/ayam-bakar_011_jpeg.rf.fdfa5e0c3ac2f027a18e61fdcd3979d2.jpg: 640x640 1 Ayam Bakar, 38.5ms\n",
      "image 11/129 /content/Indonesia-Food-1/test/images/ayam-bakar_023_jpg.rf.522f95a3908f16c868bed7938b38d36d.jpg: 640x640 2 Ayam Bakars, 39.5ms\n",
      "image 12/129 /content/Indonesia-Food-1/test/images/ayam-goreng_001_jpg.rf.5fb5c9b06fd313cd8dbface85b237554.jpg: 640x640 1 Rendang, 1 Sate, 39.2ms\n",
      "image 13/129 /content/Indonesia-Food-1/test/images/ayam-goreng_006_jpeg.rf.9baf400525a47f9bda8a6273a51ef87d.jpg: 640x640 1 Ayam Bakar, 1 Ayam Goreng, 40.0ms\n",
      "image 14/129 /content/Indonesia-Food-1/test/images/ayam-goreng_007_jpeg.rf.1c9ac1f4f241a0c146956f0af37f3b7e.jpg: 640x640 1 Ayam Goreng, 1 Ikan Goreng, 39.1ms\n",
      "image 15/129 /content/Indonesia-Food-1/test/images/ayam-goreng_010_jpeg.rf.45c5ec3d983664216d632ba42ea5f879.jpg: 640x640 1 Ayam Goreng, 38.7ms\n",
      "image 16/129 /content/Indonesia-Food-1/test/images/ayam-goreng_011_jpeg.rf.84b418c50edb5a1c022cbd57406befd7.jpg: 640x640 1 Ayam Bakar, 1 Ayam Goreng, 39.0ms\n",
      "image 17/129 /content/Indonesia-Food-1/test/images/ayam-goreng_012_jpeg.rf.4d380005c1755d9ff4f7a781c4420555.jpg: 640x640 1 Ayam Goreng, 1 Sate, 38.7ms\n",
      "image 18/129 /content/Indonesia-Food-1/test/images/ayam-goreng_014_jpeg.rf.ccd6d552a0ad02690b0c92b3b202d6f1.jpg: 640x640 1 Ayam Goreng, 39.6ms\n",
      "image 19/129 /content/Indonesia-Food-1/test/images/ayam-goreng_015_jpeg.rf.38febcf76fd87b3f372c1efc9deb6354.jpg: 640x640 (no detections), 38.3ms\n",
      "image 20/129 /content/Indonesia-Food-1/test/images/ayam-goreng_017_jpeg.rf.870d2b4f6c81f25d5f3e32082190f9a0.jpg: 640x640 1 Ayam Bakar, 1 Ayam Goreng, 38.3ms\n",
      "image 21/129 /content/Indonesia-Food-1/test/images/bakso_003_jpg.rf.dd7119536e65def9cd782c1fbe2de07a.jpg: 640x640 3 Baksos, 38.7ms\n",
      "image 22/129 /content/Indonesia-Food-1/test/images/bakso_005_jpg.rf.5fa343401f539b8fdc1b8da8f1693a9e.jpg: 640x640 3 Baksos, 1 Sayur Sop, 39.4ms\n",
      "image 23/129 /content/Indonesia-Food-1/test/images/bakso_009_jpg.rf.92a1a706b5433216b109f1687d801b66.jpg: 640x640 1 Bakso, 1 Sayur Sop, 39.0ms\n",
      "image 24/129 /content/Indonesia-Food-1/test/images/bakso_020_jpg.rf.f1b17dc2eb7266e6cd8bb53bf68f14c2.jpg: 640x640 (no detections), 38.9ms\n",
      "image 25/129 /content/Indonesia-Food-1/test/images/bakso_021_jpg.rf.04cc6fa00b2b572e2e07a5a7b302bbdc.jpg: 640x640 2 Baksos, 57.3ms\n",
      "image 26/129 /content/Indonesia-Food-1/test/images/bakso_022_jpg.rf.80dc5f5a5059a19429016ced55fab8cb.jpg: 640x640 1 Bakso, 37.0ms\n",
      "image 27/129 /content/Indonesia-Food-1/test/images/bakso_023_jpg.rf.26105e5df97dfb1a74ec195564865550.jpg: 640x640 2 Baksos, 37.0ms\n",
      "image 28/129 /content/Indonesia-Food-1/test/images/capcay_002_jpg.rf.53c8f5cd467f868bab7f97a7012d14cd.jpg: 640x640 1 Sayur Sop, 37.2ms\n",
      "image 29/129 /content/Indonesia-Food-1/test/images/capcay_003_jpg.rf.c4f7d32712ece2417354714b6ff792fe.jpg: 640x640 1 Capcay, 38.5ms\n",
      "image 30/129 /content/Indonesia-Food-1/test/images/capcay_010_jpg.rf.82e5c8cffdf2675975fbcce2c7f42289.jpg: 640x640 1 Capcay, 38.5ms\n",
      "image 31/129 /content/Indonesia-Food-1/test/images/capcay_016_jpg.rf.3ed564452c0f38faee1f4f448f6d3c86.jpg: 640x640 1 Capcay, 37.1ms\n",
      "image 32/129 /content/Indonesia-Food-1/test/images/capcay_017_jpg.rf.713676108981a2e7fc68daf33a161cdd.jpg: 640x640 1 Sayur Sop, 37.3ms\n",
      "image 33/129 /content/Indonesia-Food-1/test/images/capcay_020_jpg.rf.819c992f120426364b591da0f2a6f2d8.jpg: 640x640 1 Capcay, 39.4ms\n",
      "image 34/129 /content/Indonesia-Food-1/test/images/capcay_022_jpg.rf.dfd0e6452980ddeec60269c6488eef74.jpg: 640x640 1 Sayur Sop, 38.5ms\n",
      "image 35/129 /content/Indonesia-Food-1/test/images/capcay_023_jpg.rf.4568912e3d03fca1818a2d88a4c3794f.jpg: 640x640 1 Sayur Sop, 38.2ms\n",
      "image 36/129 /content/Indonesia-Food-1/test/images/donat_001_jpg.rf.194834702cd746df448d7885fcf5cd21.jpg: 640x640 2 Donats, 37.6ms\n",
      "image 37/129 /content/Indonesia-Food-1/test/images/donat_005_jpg.rf.385c60a80e9396c2deadb7a3083ea1a0.jpg: 640x640 2 Donats, 38.2ms\n",
      "image 38/129 /content/Indonesia-Food-1/test/images/donat_012_jpg.rf.4dcf85b61de448e910ccdc7baf2557b9.jpg: 640x640 1 Donat, 39.3ms\n",
      "image 39/129 /content/Indonesia-Food-1/test/images/donat_013_jpg.rf.d69f25c7acec7efe49b318854a1ece39.jpg: 640x640 1 Donat, 39.0ms\n",
      "image 40/129 /content/Indonesia-Food-1/test/images/donat_016_jpg.rf.88c273e449dd4921b4ebf871d093c980.jpg: 640x640 1 Donat, 38.6ms\n",
      "image 41/129 /content/Indonesia-Food-1/test/images/donat_021_jpg.rf.c0590e7d025223edbcc31084e6539e3a.jpg: 640x640 1 Donat, 40.9ms\n",
      "image 42/129 /content/Indonesia-Food-1/test/images/donat_025_jpg.rf.c19d04d2940311ce95a7808863fdc593.jpg: 640x640 5 Donats, 38.6ms\n",
      "image 43/129 /content/Indonesia-Food-1/test/images/download_jpg.rf.c710178164bd2d51dbcd816be059ebad.jpg: 640x640 1 Ikan Bakar, 1 Ikan Goreng, 59.8ms\n",
      "image 44/129 /content/Indonesia-Food-1/test/images/ikan-goreng_004_jpg.rf.815601d7f206cf7297e92a6066fdc826.jpg: 640x640 1 Ikan Goreng, 40.1ms\n",
      "image 45/129 /content/Indonesia-Food-1/test/images/ikan-goreng_006_jpg.rf.227cfe622b296bea62f3f0c93fb8b1cf.jpg: 640x640 1 Ikan Goreng, 39.7ms\n",
      "image 46/129 /content/Indonesia-Food-1/test/images/ikan-goreng_009_jpg.rf.cbd83ecb58f337152b823e4b672df6ef.jpg: 640x640 1 Ikan Goreng, 39.1ms\n",
      "image 47/129 /content/Indonesia-Food-1/test/images/ikan-goreng_010_jpeg.rf.712217074e282ca505c7ad8a07b1efad.jpg: 640x640 1 Ikan Goreng, 39.3ms\n",
      "image 48/129 /content/Indonesia-Food-1/test/images/ikan-goreng_011_jpeg.rf.091e4e6ac9388f5eee46b182d4929611.jpg: 640x640 (no detections), 38.4ms\n",
      "image 49/129 /content/Indonesia-Food-1/test/images/ikan-goreng_017_jpeg.rf.934ef9cde90c0761537ebc64b9842c95.jpg: 640x640 1 Ikan Goreng, 39.2ms\n",
      "image 50/129 /content/Indonesia-Food-1/test/images/ikan-goreng_018_jpeg.rf.f81283ff059690eef1820160031f5245.jpg: 640x640 1 Ikan Goreng, 38.5ms\n",
      "image 51/129 /content/Indonesia-Food-1/test/images/ikan-goreng_025_jpeg.rf.875302bd7d16abbc81ed187032286e5f.jpg: 640x640 1 Ikan Goreng, 39.6ms\n",
      "image 52/129 /content/Indonesia-Food-1/test/images/kentang-goreng_004_jpg.rf.68e666daf606f65b3abb231c87a9298f.jpg: 640x640 1 Kentang Goreng, 38.9ms\n",
      "image 53/129 /content/Indonesia-Food-1/test/images/kentang-goreng_006_jpg.rf.e708d25423d1ba9da1fb295827f98f26.jpg: 640x640 1 Kentang Goreng, 38.7ms\n",
      "image 54/129 /content/Indonesia-Food-1/test/images/kentang-goreng_009_jpg.rf.c2c04a21cf6a8e1cc2ee3607d5ea6fa7.jpg: 640x640 2 Kentang Gorengs, 1 Telur Rebus, 38.4ms\n",
      "image 55/129 /content/Indonesia-Food-1/test/images/kentang-goreng_015_jpeg.rf.0dd764ecd7bc62a2e4872f7d899680bb.jpg: 640x640 1 Kentang Goreng, 38.8ms\n",
      "image 56/129 /content/Indonesia-Food-1/test/images/kentang-rebus_001_jpg.rf.be0639ece528c3e4f86954555d175d9b.jpg: 640x640 1 Kentang Rebus, 38.4ms\n",
      "image 57/129 /content/Indonesia-Food-1/test/images/kentang-rebus_005_jpg.rf.e5221f3d48abe1d70de5b190c541debe.jpg: 640x640 1 Kentang Rebus, 39.6ms\n",
      "image 58/129 /content/Indonesia-Food-1/test/images/kentang-rebus_009_jpg.rf.b86d61630630771af3e61825e9dce45a.jpg: 640x640 1 Kentang Rebus, 38.3ms\n",
      "image 59/129 /content/Indonesia-Food-1/test/images/kentang-rebus_018_jpg.rf.2b306cb4183189a9276b9fa443f23c71.jpg: 640x640 1 Kentang Rebus, 39.2ms\n",
      "image 60/129 /content/Indonesia-Food-1/test/images/kentang-rebus_019_jpg.rf.d968d6c048340b142b29ec11f75eeefb.jpg: 640x640 1 Kentang Rebus, 40.8ms\n",
      "image 61/129 /content/Indonesia-Food-1/test/images/kentang-rebus_021_jpg.rf.2669a32c00286271ed55c83e9f2c9941.jpg: 640x640 1 Kentang Rebus, 38.2ms\n",
      "image 62/129 /content/Indonesia-Food-1/test/images/nasi_004_jpg.rf.aef9056d8433eb5a923f4cfd21a05643.jpg: 640x640 1 Nasi Putih, 59.6ms\n",
      "image 63/129 /content/Indonesia-Food-1/test/images/nasi_006_jpg.rf.eda1de7af4603da627166accdd9f124c.jpg: 640x640 1 Nasi Putih, 37.8ms\n",
      "image 64/129 /content/Indonesia-Food-1/test/images/nasi_012_jpg.rf.168a37c77a5d98763a1d5dfece066b5a.jpg: 640x640 1 Nasi Putih, 1 Puding, 1 Rendang, 37.6ms\n",
      "image 65/129 /content/Indonesia-Food-1/test/images/nasi_014_jpg.rf.4b2f773a471bd5adc95ecf7d0a1deefb.jpg: 640x640 1 Nasi Putih, 37.9ms\n",
      "image 66/129 /content/Indonesia-Food-1/test/images/puding_002_jpg.rf.e1d604adc981180fcb01e0ce748ce3bd.jpg: 640x640 1 Puding, 38.1ms\n",
      "image 67/129 /content/Indonesia-Food-1/test/images/puding_006_jpg.rf.a7cdb97601c777c737ec4646834a9e61.jpg: 640x640 2 Pudings, 37.9ms\n",
      "image 68/129 /content/Indonesia-Food-1/test/images/puding_009_jpg.rf.85c9619031d68dea83d5dcec6c6ced6c.jpg: 640x640 1 Puding, 39.0ms\n",
      "image 69/129 /content/Indonesia-Food-1/test/images/puding_010_jpg.rf.d84fbbc037f04c9267f3fcbd8505eb3b.jpg: 640x640 1 Puding, 38.0ms\n",
      "image 70/129 /content/Indonesia-Food-1/test/images/puding_013_jpg.rf.e81e943d7cf77893e0be08dd3c68257c.jpg: 640x640 1 Puding, 38.3ms\n",
      "image 71/129 /content/Indonesia-Food-1/test/images/puding_018_jpg.rf.1a163b190003c133b2d6078a7491122d.jpg: 640x640 1 Puding, 38.0ms\n",
      "image 72/129 /content/Indonesia-Food-1/test/images/puding_022_jpg.rf.10e7e09f401a999e11c52d56ef155d33.jpg: 640x640 2 Pudings, 38.0ms\n",
      "image 73/129 /content/Indonesia-Food-1/test/images/rendang_003_jpg.rf.71a94497dbc4f9e6e1412a88e12a4ec9.jpg: 640x640 1 Rendang, 37.3ms\n",
      "image 74/129 /content/Indonesia-Food-1/test/images/rendang_025_jpg.rf.19eee5d23fb44067aba670ceb9feae00.jpg: 640x640 1 Rendang, 38.1ms\n",
      "image 75/129 /content/Indonesia-Food-1/test/images/roti_001_jpg.rf.cf591e9da5203ca636adfd7eedea86e4.jpg: 640x640 1 Roti Tawar, 38.2ms\n",
      "image 76/129 /content/Indonesia-Food-1/test/images/roti_003_jpg.rf.58b93376f025992f331f1ecf6919299f.jpg: 640x640 1 Roti Tawar, 38.8ms\n",
      "image 77/129 /content/Indonesia-Food-1/test/images/roti_007_jpg.rf.d09d3be50e79affc3935fe3592fc231b.jpg: 640x640 1 Roti Tawar, 38.6ms\n",
      "image 78/129 /content/Indonesia-Food-1/test/images/roti_008_jpg.rf.d29e6edcab0d755ef1f8a9956f53e014.jpg: 640x640 1 Roti Tawar, 38.2ms\n",
      "image 79/129 /content/Indonesia-Food-1/test/images/roti_012_jpg.rf.1e97c62e19bc4281c52a860ea5731f75.jpg: 640x640 1 Roti Tawar, 38.5ms\n",
      "image 80/129 /content/Indonesia-Food-1/test/images/roti_014_jpg.rf.35ec436f6892d20a63b4577a4b5154a9.jpg: 640x640 1 Roti Tawar, 49.7ms\n",
      "image 81/129 /content/Indonesia-Food-1/test/images/roti_015_jpg.rf.6641aa435a840e2dff75e7e230da5ef8.jpg: 640x640 1 Roti Tawar, 37.6ms\n",
      "image 82/129 /content/Indonesia-Food-1/test/images/roti_021_jpg.rf.c5a5787b7cc78c3541f4a3aa8fa02104.jpg: 640x640 1 Roti Tawar, 39.8ms\n",
      "image 83/129 /content/Indonesia-Food-1/test/images/roti_022_jpg.rf.86a1f3b640d846db0013715e6e53c4cd.jpg: 640x640 1 Roti Tawar, 39.2ms\n",
      "image 84/129 /content/Indonesia-Food-1/test/images/sate_001_jpg.rf.b9648af403f6a6bb020eee599eeba753.jpg: 640x640 1 Sate, 58.0ms\n",
      "image 85/129 /content/Indonesia-Food-1/test/images/sate_002_jpg.rf.ef02c0d98f07f2af5d9e97bc985431c7.jpg: 640x640 1 Rendang, 37.5ms\n",
      "image 86/129 /content/Indonesia-Food-1/test/images/sate_008_jpg.rf.62e29087539baf2dcbcfa339ed703a58.jpg: 640x640 1 Sate, 37.6ms\n",
      "image 87/129 /content/Indonesia-Food-1/test/images/sate_024_jpg.rf.f56ccfc2649d7d5db48c8cb7fb56471f.jpg: 640x640 1 Sate, 37.3ms\n",
      "image 88/129 /content/Indonesia-Food-1/test/images/sop_001_jpg.rf.916d444beb6f30b4cc33003b6af80499.jpg: 640x640 1 Sayur Sop, 37.4ms\n",
      "image 89/129 /content/Indonesia-Food-1/test/images/sop_008_jpg.rf.78ad8c753426a46830f0a95c74b206b3.jpg: 640x640 1 Sayur Sop, 37.0ms\n",
      "image 90/129 /content/Indonesia-Food-1/test/images/sop_022_jpg.rf.5ba0c3fa46efe1fbc4d554b1c186f5ee.jpg: 640x640 2 Sayur Sops, 36.7ms\n",
      "image 91/129 /content/Indonesia-Food-1/test/images/tahu-goreng_003_jpeg.rf.7c9f86a8b4e7c965f03d9812ea38a6f4.jpg: 640x640 1 Sayur Sop, 37.7ms\n",
      "image 92/129 /content/Indonesia-Food-1/test/images/tahu-goreng_006_jpeg.rf.b8a312d2022cdbc312acf2bd76289399.jpg: 640x640 1 Capcay, 1 Tahu Goreng, 36.9ms\n",
      "image 93/129 /content/Indonesia-Food-1/test/images/tahu-goreng_010_jpeg.rf.3ff8409bd0cf77e1a2c9d1890ead11ad.jpg: 640x640 1 Tahu Goreng, 38.3ms\n",
      "image 94/129 /content/Indonesia-Food-1/test/images/tahu-goreng_019_jpeg.rf.bd86c1ee6622c602f1ae12adbf138c7f.jpg: 640x640 2 Tahu Gorengs, 38.2ms\n",
      "image 95/129 /content/Indonesia-Food-1/test/images/tahu-goreng_023_jpeg.rf.b8619896e26710f0bb38ec2976f54dde.jpg: 640x640 1 Bakso, 38.6ms\n",
      "image 96/129 /content/Indonesia-Food-1/test/images/tahu-goreng_024_jpeg.rf.6591e7b48d6c273fdf769d4228626611.jpg: 640x640 1 Tempe Goreng, 37.7ms\n",
      "image 97/129 /content/Indonesia-Food-1/test/images/telur-ceplok_007_jpg.rf.7da5f4620f77ff27ea7046f6e2cc1160.jpg: 640x640 1 Telur Ceplok, 37.3ms\n",
      "image 98/129 /content/Indonesia-Food-1/test/images/telur-ceplok_012_jpg.rf.48acbdb974fbe5ed6ce25ee3718666d5.jpg: 640x640 2 Telur Ceploks, 37.8ms\n",
      "image 99/129 /content/Indonesia-Food-1/test/images/telurdadar_001_jpg.rf.5aa8e2f0317a0ecc6841ee129a4155dc.jpg: 640x640 1 Telur Dadar, 38.4ms\n",
      "image 100/129 /content/Indonesia-Food-1/test/images/telurdadar_003_jpg.rf.5d1b153e94c5067d1ef5ad5db3df4576.jpg: 640x640 1 Telur Dadar, 40.1ms\n",
      "image 101/129 /content/Indonesia-Food-1/test/images/telurdadar_009_jpg.rf.9320cbe8d13e5a288b6360b94e8d063b.jpg: 640x640 1 Telur Dadar, 40.4ms\n",
      "image 102/129 /content/Indonesia-Food-1/test/images/telurdadar_010_jpg.rf.959f8e8fb30322a0b37a5ec42ffda35a.jpg: 640x640 1 Telur Dadar, 38.9ms\n",
      "image 103/129 /content/Indonesia-Food-1/test/images/telurdadar_013_jpg.rf.4f6decbce39a27dddad74eeac8d308da.jpg: 640x640 1 Telur Dadar, 37.7ms\n",
      "image 104/129 /content/Indonesia-Food-1/test/images/telurdadar_014_jpg.rf.fdf76989fa3a221be939dcde0325bb57.jpg: 640x640 1 Telur Dadar, 37.5ms\n",
      "image 105/129 /content/Indonesia-Food-1/test/images/telurebus_002_jpeg.rf.7816a860dd1ddb9bf7847295d8d6ee58.jpg: 640x640 3 Telur Rebuss, 37.8ms\n",
      "image 106/129 /content/Indonesia-Food-1/test/images/telurebus_009_jpeg.rf.f217bebfafdd83823842e566535bccab.jpg: 640x640 3 Telur Rebuss, 38.5ms\n",
      "image 107/129 /content/Indonesia-Food-1/test/images/telurebus_011_jpg.rf.34a954064f1aa1e1fd5262e58f73f6d1.jpg: 640x640 2 Telur Rebuss, 37.8ms\n",
      "image 108/129 /content/Indonesia-Food-1/test/images/telurebus_013_jpeg.rf.776d21104c758b5609c977fd3916972b.jpg: 640x640 1 Bakso, 1 Telur Rebus, 39.9ms\n",
      "image 109/129 /content/Indonesia-Food-1/test/images/telurebus_014_jpeg.rf.7f5bd6d9de4fbfb0d9f4c2554cc88ce0.jpg: 640x640 2 Telur Rebuss, 39.0ms\n",
      "image 110/129 /content/Indonesia-Food-1/test/images/telurebus_015_jpeg.rf.e5fd221d60c00306e04fd3101e1d4784.jpg: 640x640 1 Telur Rebus, 39.4ms\n",
      "image 111/129 /content/Indonesia-Food-1/test/images/telurebus_017_jpg.rf.da395b86654d7fc6bf7d41d9532cf4e7.jpg: 640x640 2 Telur Rebuss, 38.3ms\n",
      "image 112/129 /content/Indonesia-Food-1/test/images/telurebus_022_jpeg.rf.dc8d84bd61faafa7da76e301cb69f4cf.jpg: 640x640 2 Telur Rebuss, 38.8ms\n",
      "image 113/129 /content/Indonesia-Food-1/test/images/telurebus_024-1-_jpeg.rf.b12a7fd9cb59806fd5358af621d2e65f.jpg: 640x640 2 Telur Rebuss, 38.3ms\n",
      "image 114/129 /content/Indonesia-Food-1/test/images/telurebus_025_jpeg.rf.9e1cb499ad1c17e699c44a0cf62a8843.jpg: 640x640 1 Telur Rebus, 39.1ms\n",
      "image 115/129 /content/Indonesia-Food-1/test/images/tempe_011_jpeg.rf.f3fd0d164f97a33361d2bcdb4ca6d2d3.jpg: 640x640 1 Tempe Goreng, 40.3ms\n",
      "image 116/129 /content/Indonesia-Food-1/test/images/tempe_012_jpeg.rf.00425c8a711010bace2f8144e51252a3.jpg: 640x640 1 Tempe Goreng, 40.9ms\n",
      "image 117/129 /content/Indonesia-Food-1/test/images/tempe_014_jpeg.rf.34507e518b951d6edae99e4b376747ab.jpg: 640x640 2 Tempe Gorengs, 39.7ms\n",
      "image 118/129 /content/Indonesia-Food-1/test/images/tempe_017_jpeg.rf.b4d02ddefd175161449080f2836e625d.jpg: 640x640 1 Tempe Goreng, 39.1ms\n",
      "image 119/129 /content/Indonesia-Food-1/test/images/tempe_018_jpeg.rf.4dbd674922107e11daef078c05ee4aa0.jpg: 640x640 1 Tempe Goreng, 42.4ms\n",
      "image 120/129 /content/Indonesia-Food-1/test/images/tempe_019_jpeg.rf.7a9731756b4c28b135d5d3f635bc7f95.jpg: 640x640 1 Tempe Goreng, 39.1ms\n",
      "image 121/129 /content/Indonesia-Food-1/test/images/tumis-kangkung_003_jpg.rf.4bae724f9137e858b863be0d47c165c2.jpg: 640x640 1 Tumis kangkung, 57.4ms\n",
      "image 122/129 /content/Indonesia-Food-1/test/images/tumis-kangkung_007_jpg.rf.03026fcb6ea5832c587593ba9c5ac663.jpg: 640x640 1 Tumis kangkung, 37.5ms\n",
      "image 123/129 /content/Indonesia-Food-1/test/images/tumis-kangkung_010_jpg.rf.8ed8ca70a74af93a4241fd7d2ae273dd.jpg: 640x640 1 Tumis kangkung, 37.7ms\n",
      "image 124/129 /content/Indonesia-Food-1/test/images/tumis-kangkung_011_jpg.rf.4c52de8875861b65239481d8972e5f4b.jpg: 640x640 1 Tumis kangkung, 37.9ms\n",
      "image 125/129 /content/Indonesia-Food-1/test/images/tumis-kangkung_012_jpg.rf.d77be2280b157e387826ee198208c109.jpg: 640x640 1 Tumis kangkung, 38.1ms\n",
      "image 126/129 /content/Indonesia-Food-1/test/images/tumis-kangkung_015_jpg.rf.d64f5c1c5ddb2e838ab54e3333dae803.jpg: 640x640 1 Tumis kangkung, 37.7ms\n",
      "image 127/129 /content/Indonesia-Food-1/test/images/tumis-kangkung_019_jpg.rf.f223cb66bd0d3c4848723252aff8d948.jpg: 640x640 1 Tumis kangkung, 38.7ms\n",
      "image 128/129 /content/Indonesia-Food-1/test/images/tumis-kangkung_022_jpg.rf.3db3e284729532b4ec3173046790c96f.jpg: 640x640 1 Tumis kangkung, 37.4ms\n",
      "image 129/129 /content/Indonesia-Food-1/test/images/tumis-kangkung_025_jpg.rf.d82d07f5d271db66770fc2d7ddb824ce.jpg: 640x640 1 Tumis kangkung, 37.6ms\n",
      "Speed: 2.8ms preprocess, 40.3ms inference, 1.7ms postprocess per image at shape (1, 3, 640, 640)\n",
      "Results saved to \u001b[1mruns/detect/train53\u001b[0m\n"
     ]
    },
    {
     "data": {
      "image/png": "[encoded data removed]",
      "text/plain": [
       "<Figure size 800x800 with 1 Axes>"
      ]
     },
     "metadata": {},
     "output_type": "display_data"
    }
   ],
   "source": [
    "\n",
    "# =============================================\n",
    "#         DETEKSI MAKANAN DENGAN YOLOv8x\n",
    "#         Dataset: Food Recognition 2022 (Hub)\n",
    "# =============================================\n",
    "\n",
    "import os\n",
    "import hub\n",
    "import cv2\n",
    "import numpy as np\n",
    "from tqdm import tqdm\n",
    "from pathlib import Path\n",
    "\n",
    "from ultralytics import YOLO\n",
    "from sklearn.model_selection import train_test_split\n",
    "\n",
    "# Mount Google Drive jika di Google Colab\n",
    "from google.colab import drive\n",
    "drive.mount('/content/drive')\n",
    "\n",
    "# ===========================\n",
    "#    SETUP PATH & MODEL\n",
    "# ===========================\n",
    "# Path ke penyimpanan model hasil training\n",
    "output_dir = \"/content/drive/MyDrive/SabilaAstari/Model_new\"\n",
    "os.makedirs(output_dir, exist_ok=True)\n",
    "\n",
    "# Path dataset lokal\n",
    "base_path = \"/content/food2022_yolo\"\n",
    "images_dir = os.path.join(base_path, \"images\")\n",
    "labels_dir = os.path.join(base_path, \"labels\")\n",
    "os.makedirs(images_dir, exist_ok=True)\n",
    "os.makedirs(labels_dir, exist_ok=True)\n",
    "\n",
    "# ===========================\n",
    "#    LOAD DATASET HUB\n",
    "# ===========================\n",
    "train_ds = hub.load(\"hub://sainikhileshreddy/food-recognition-2022-train\")\n",
    "val_ds = hub.load(\"hub://sainikhileshreddy/food-recognition-2022-val\")\n",
    "test_ds = hub.load(\"hub://sainikhileshreddy/food-recognition-2022-test\")\n",
    "\n",
    "# ===========================\n",
    "#    FUNGSI KONVERSI YOLO\n",
    "# ===========================\n",
    "def convert_to_yolo_format(box, img_w, img_h):\n",
    "    xc = (box[0] + box[2]) / 2.0 / img_w\n",
    "    yc = (box[1] + box[3]) / 2.0 / img_h\n",
    "    w = (box[2] - box[0]) / img_w\n",
    "    h = (box[3] - box[1]) / img_h\n",
    "    return xc, yc, w, h\n",
    "\n",
    "def save_yolo_format(ds, split_name):\n",
    "    for i, sample in tqdm(enumerate(ds), total=len(ds), desc=f\"Processing {split_name}\"):\n",
    "        img = sample['image'].numpy()\n",
    "        anns = sample['annotations'].numpy()\n",
    "        class_names = sample['annotations'].info['names']\n",
    "\n",
    "        img = cv2.cvtColor(img, cv2.COLOR_RGB2BGR)\n",
    "        img_h, img_w = img.shape[:2]\n",
    "\n",
    "        img_filename = f\"{split_name}_{i}.jpg\"\n",
    "        label_filename = f\"{split_name}_{i}.txt\"\n",
    "\n",
    "        img_path = os.path.join(images_dir, img_filename)\n",
    "        label_path = os.path.join(labels_dir, label_filename)\n",
    "\n",
    "        cv2.imwrite(img_path, img)\n",
    "\n",
    "        with open(label_path, \"w\") as f:\n",
    "            for ann in anns:\n",
    "                cls_id = int(ann[\"label\"])\n",
    "                bbox = ann[\"bbox\"]\n",
    "                x1, y1, x2, y2 = bbox\n",
    "                yolo_bbox = convert_to_yolo_format([x1, y1, x2, y2], img_w, img_h)\n",
    "                f.write(f\"{cls_id} {' '.join(map(str, yolo_bbox))}\\n\")\n",
    "\n",
    "save_yolo_format(train_ds, \"train\")\n",
    "save_yolo_format(val_ds, \"val\")\n",
    "save_yolo_format(test_ds, \"test\")\n",
    "\n",
    "# ===========================\n",
    "#    BUAT FILE data.yaml\n",
    "# ===========================\n",
    "data_yaml_path = os.path.join(base_path, \"data.yaml\")\n",
    "with open(data_yaml_path, \"w\") as f:\n",
    "    f.write(f\"\"\"\n",
    "path: {base_path}\n",
    "train: images\n",
    "val: images\n",
    "test: images\n",
    "nc: 100\n",
    "names: [{', '.join([f'\"{i}\"' for i in range(100)])}]\n",
    "\"\"\")\n",
    "\n",
    "# ===========================\n",
    "#    TRAINING YOLOv8x\n",
    "# ===========================\n",
    "model = YOLO(\"yolov8x.pt\")\n",
    "model.train(data=data_yaml_path, epochs=20, imgsz=640, project=output_dir, name=\"food_yolov8x\")\n",
    "\n",
    "# ===========================\n",
    "#    EVALUASI & SIMPAN MODEL\n",
    "# ===========================\n",
    "model.val()\n",
    "model_path = os.path.join(output_dir, \"best.pt\")\n",
    "model.save(model_path)\n",
    "print(\"Model saved to:\", model_path)\n"
   ]
  }
 ],
 "metadata": {
  "accelerator": "GPU",
  "colab": {
   "gpuType": "A100",
   "machine_shape": "hm",
   "provenance": []
  },
  "kernelspec": {
   "display_name": "Python 3",
   "name": "python3"
  },
  "language_info": {
   "name": "python"
  }
 },
 "nbformat": 4,
 "nbformat_minor": 0
}
